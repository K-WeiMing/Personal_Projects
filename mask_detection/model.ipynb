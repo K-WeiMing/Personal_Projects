{
 "cells": [
  {
   "cell_type": "markdown",
   "metadata": {},
   "source": [
    "[Reference](https://www.kaggle.com/code/benihime91/pytorch-fasterrcnn)"
   ]
  },
  {
   "cell_type": "markdown",
   "metadata": {},
   "source": [
    "### Imports"
   ]
  },
  {
   "cell_type": "code",
   "execution_count": 18,
   "metadata": {},
   "outputs": [],
   "source": [
    "import os\n",
    "import numpy as np\n",
    "import pandas as pd\n",
    "from PIL import Image\n",
    "\n",
    "# Sk learn\n",
    "from sklearn.model_selection import train_test_split\n",
    "\n",
    "# PyTorch\n",
    "import torch\n",
    "from torch.utils.data import Dataset, DataLoader\n",
    "import torchvision\n",
    "from torchvision import transforms, datasets, models\n",
    "from torchvision.models.detection.faster_rcnn import FastRCNNPredictor\n",
    "from torchvision.models.detection.mask_rcnn import MaskRCNNPredictor\n",
    "\n",
    "# from torch import utils\n"
   ]
  },
  {
   "cell_type": "code",
   "execution_count": 19,
   "metadata": {},
   "outputs": [
    {
     "data": {
      "text/plain": [
       "853"
      ]
     },
     "execution_count": 19,
     "metadata": {},
     "output_type": "execute_result"
    }
   ],
   "source": [
    "# Count the total number of images\n",
    "\n",
    "img_list = list(sorted(os.listdir('./data/images/')))\n",
    "len(img_list)"
   ]
  },
  {
   "cell_type": "markdown",
   "metadata": {},
   "source": [
    "#### Split the data"
   ]
  },
  {
   "cell_type": "code",
   "execution_count": 20,
   "metadata": {},
   "outputs": [
    {
     "name": "stdout",
     "output_type": "stream",
     "text": [
      "No. of training images: 682\n",
      "No. of test images: 171\n"
     ]
    }
   ],
   "source": [
    "train_img, test_img = train_test_split(img_list, test_size = 0.2, random_state=42)\n",
    "print(f\"No. of training images: {len(train_img)}\")\n",
    "print(f\"No. of test images: {len(test_img)}\")"
   ]
  },
  {
   "cell_type": "markdown",
   "metadata": {},
   "source": [
    "### DataSet Class"
   ]
  },
  {
   "cell_type": "code",
   "execution_count": 21,
   "metadata": {},
   "outputs": [],
   "source": [
    "from bs4 import BeautifulSoup\n",
    "from torchvision import transforms as T\n",
    "\n",
    "def collate_fn(batch):\n",
    "    data_list, label_list = [], []\n",
    "    for _data, _label in batch:\n",
    "        data_list.append(_data)\n",
    "        label_list.append(_label)\n",
    "    return torch.Tensor(data_list), torch.LongTensor(label_list)\n",
    "\n",
    "\n",
    "def generate_box(obj):\n",
    "    xmin = int(obj.find('xmin').text)\n",
    "    ymin = int(obj.find('ymin').text)\n",
    "    xmax = int(obj.find('xmax').text)\n",
    "    ymax = int(obj.find('ymax').text)\n",
    "    return [xmin, ymin, xmax, ymax]\n",
    "\n",
    "def generate_labels(obj):\n",
    "    if obj.find('name').text == \"with_mask\":\n",
    "        return 1\n",
    "    elif obj.find('name').text == \"mask_weared_incorrect\":\n",
    "        return 2\n",
    "    elif obj.find('name').text == \"without_mask\":\n",
    "        return 3\n",
    "    return 0\n",
    "\n",
    "def get_transform():\n",
    "    transforms = []\n",
    "    transforms.append(T.PILToTensor())\n",
    "    transforms.append(T.ConvertImageDtype(torch.float),)\n",
    "    return T.Compose(transforms)\n",
    "\n",
    "\n",
    "class MaskDataset(Dataset):\n",
    "    def __init__(self, img_dir, annot_dir, img_list, transforms):\n",
    "        self.transforms = transforms\n",
    "        self.imgs = img_list\n",
    "        self.img_dir = img_dir\n",
    "        self.annot_dir = annot_dir\n",
    "\n",
    "    def __len__(self):\n",
    "        return len(self.imgs)\n",
    "\n",
    "    def __getitem__(self, idx):\n",
    "        f_image = 'maksssksksss'+ str(idx) + '.png'\n",
    "        f_label = 'maksssksksss'+ str(idx) + '.xml'\n",
    "        \n",
    "        img_path = os.path.join(self.img_dir, f_image)\n",
    "        label_path = os.path.join(self.annot_dir, f_label)\n",
    "        \n",
    "        # Open the image\n",
    "        img = Image.open(img_path).convert(\"RGB\")\n",
    "        \n",
    "        target = self.__generate_target(idx, label_path)\n",
    "        \n",
    "        if self.transforms is not None:\n",
    "            # img, target = self.transforms(img, target)\n",
    "            img = self.transforms(img)\n",
    "\n",
    "        return img, target\n",
    "    \n",
    "    \n",
    "    @staticmethod\n",
    "    def __generate_target(img_id, file):\n",
    "        with open(file, 'r') as f:\n",
    "            data = f.read()\n",
    "            soup = BeautifulSoup(data, 'xml')\n",
    "            objects = soup.find_all('object')\n",
    "            \n",
    "            num_objects = len(objects)\n",
    "            \n",
    "            # Bounding boxes\n",
    "            boxes = []\n",
    "            labels = []\n",
    "            \n",
    "            for i in objects:\n",
    "                boxes.append(generate_box(i))\n",
    "                labels.append(generate_labels(i))\n",
    "        \n",
    "            # Convert to tensor\n",
    "            boxes = torch.as_tensor(boxes, dtype=torch.float32)\n",
    "            labels = torch.as_tensor(labels, dtype=torch.int64)\n",
    "            \n",
    "            img_id = torch.tensor(img_id)\n",
    "            \n",
    "            # Area is width and height\n",
    "            area = (boxes[:, 3] - boxes[:, 1]) * (boxes[:, 2] - boxes[:, 0])\n",
    "            iscrowd = torch.zeros((num_objects,), dtype=torch.int64)\n",
    "            \n",
    "            # Return a dictionary format\n",
    "            target = {}\n",
    "            target['boxes'] = boxes\n",
    "            target['labels'] = labels\n",
    "            target['image_id'] = img_id\n",
    "            target['area'] = area\n",
    "            target['iscrowd'] = iscrowd\n",
    "            \n",
    "            return target"
   ]
  },
  {
   "cell_type": "markdown",
   "metadata": {},
   "source": [
    "### DataLoader Class"
   ]
  },
  {
   "cell_type": "code",
   "execution_count": 22,
   "metadata": {},
   "outputs": [],
   "source": [
    "train_dataset = MaskDataset(img_dir= './data/images/',\n",
    "                        annot_dir= './data/annotations/',\n",
    "                        img_list= train_img,\n",
    "                        transforms= get_transform())"
   ]
  },
  {
   "cell_type": "code",
   "execution_count": 23,
   "metadata": {},
   "outputs": [
    {
     "data": {
      "text/plain": [
       "(tensor([[[0.9490, 0.9529, 0.9569,  ..., 0.4784, 0.4784, 0.4902],\n",
       "          [0.9490, 0.9569, 0.9569,  ..., 0.4824, 0.4824, 0.4824],\n",
       "          [0.9608, 0.9608, 0.9569,  ..., 0.4667, 0.4863, 0.4824],\n",
       "          ...,\n",
       "          [0.8314, 0.8314, 0.8275,  ..., 0.3765, 0.3451, 0.3373],\n",
       "          [0.8314, 0.8353, 0.8431,  ..., 0.3647, 0.3451, 0.3490],\n",
       "          [0.8431, 0.8510, 0.8588,  ..., 0.3529, 0.3412, 0.3412]],\n",
       " \n",
       "         [[0.9725, 0.9725, 0.9647,  ..., 0.5373, 0.5412, 0.5451],\n",
       "          [0.9686, 0.9686, 0.9647,  ..., 0.5294, 0.5373, 0.5412],\n",
       "          [0.9686, 0.9725, 0.9647,  ..., 0.5255, 0.5294, 0.5373],\n",
       "          ...,\n",
       "          [0.8235, 0.8275, 0.8275,  ..., 0.3529, 0.3451, 0.3412],\n",
       "          [0.8314, 0.8314, 0.8392,  ..., 0.3490, 0.3412, 0.3294],\n",
       "          [0.8392, 0.8471, 0.8392,  ..., 0.3490, 0.3373, 0.3333]],\n",
       " \n",
       "         [[0.9804, 0.9843, 0.9804,  ..., 0.5804, 0.5882, 0.5922],\n",
       "          [0.9804, 0.9843, 0.9804,  ..., 0.5843, 0.5882, 0.5922],\n",
       "          [0.9843, 0.9843, 0.9765,  ..., 0.5843, 0.5765, 0.5804],\n",
       "          ...,\n",
       "          [0.8118, 0.8157, 0.8196,  ..., 0.3529, 0.3373, 0.3412],\n",
       "          [0.8314, 0.8275, 0.8314,  ..., 0.3569, 0.3333, 0.3294],\n",
       "          [0.8314, 0.8431, 0.8392,  ..., 0.3529, 0.3333, 0.3255]]]),\n",
       " {'boxes': tensor([[ 52.,  53.,  73.,  76.],\n",
       "          [ 72.,  53.,  92.,  75.],\n",
       "          [112.,  51., 120.,  68.],\n",
       "          [155.,  60., 177.,  83.],\n",
       "          [189.,  59., 210.,  80.],\n",
       "          [235.,  57., 257.,  78.],\n",
       "          [289.,  60., 309.,  83.],\n",
       "          [313.,  68., 333.,  90.],\n",
       "          [351.,  35., 364.,  59.]]),\n",
       "  'labels': tensor([1, 1, 1, 1, 1, 1, 1, 1, 1]),\n",
       "  'image_id': tensor(3),\n",
       "  'area': tensor([483., 440., 136., 506., 441., 462., 460., 440., 312.]),\n",
       "  'iscrowd': tensor([0, 0, 0, 0, 0, 0, 0, 0, 0])})"
      ]
     },
     "execution_count": 23,
     "metadata": {},
     "output_type": "execute_result"
    }
   ],
   "source": [
    "train_dataset[3]"
   ]
  },
  {
   "cell_type": "code",
   "execution_count": 24,
   "metadata": {},
   "outputs": [
    {
     "data": {
      "text/plain": [
       "torch.Size([3, 366, 512])"
      ]
     },
     "execution_count": 24,
     "metadata": {},
     "output_type": "execute_result"
    }
   ],
   "source": [
    "train_dataset[0][0].size()"
   ]
  },
  {
   "cell_type": "code",
   "execution_count": 25,
   "metadata": {},
   "outputs": [
    {
     "data": {
      "text/plain": [
       "torch.Size([3, 156, 400])"
      ]
     },
     "execution_count": 25,
     "metadata": {},
     "output_type": "execute_result"
    }
   ],
   "source": [
    "train_dataset[1][0].size()"
   ]
  },
  {
   "cell_type": "code",
   "execution_count": 26,
   "metadata": {},
   "outputs": [],
   "source": [
    "train_loader = torch.utils.data.DataLoader(train_dataset, batch_size = 2, num_workers = 0, collate_fn=collate_fn)"
   ]
  },
  {
   "cell_type": "code",
   "execution_count": null,
   "metadata": {},
   "outputs": [],
   "source": []
  },
  {
   "cell_type": "markdown",
   "metadata": {},
   "source": []
  }
 ],
 "metadata": {
  "kernelspec": {
   "display_name": "Python 3.9.13 ('personal_project_arm')",
   "language": "python",
   "name": "python3"
  },
  "language_info": {
   "codemirror_mode": {
    "name": "ipython",
    "version": 3
   },
   "file_extension": ".py",
   "mimetype": "text/x-python",
   "name": "python",
   "nbconvert_exporter": "python",
   "pygments_lexer": "ipython3",
   "version": "3.9.13"
  },
  "orig_nbformat": 4,
  "vscode": {
   "interpreter": {
    "hash": "571fa7eef80c5c553d4168e6706a4d5128801cb4f1cee1ad1ae7446bce0e2386"
   }
  }
 },
 "nbformat": 4,
 "nbformat_minor": 2
}
