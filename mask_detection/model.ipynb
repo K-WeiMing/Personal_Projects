{
 "cells": [
  {
   "cell_type": "markdown",
   "metadata": {},
   "source": [
    "[Reference](https://www.kaggle.com/code/benihime91/pytorch-fasterrcnn)"
   ]
  },
  {
   "cell_type": "markdown",
   "metadata": {},
   "source": [
    "### Imports"
   ]
  },
  {
   "cell_type": "code",
   "execution_count": 1,
   "metadata": {},
   "outputs": [],
   "source": [
    "# %load_ext autoreload\n",
    "# %autoreload 2"
   ]
  },
  {
   "cell_type": "code",
   "execution_count": 2,
   "metadata": {},
   "outputs": [],
   "source": [
    "import os\n",
    "import numpy as np\n",
    "import pandas as pd\n",
    "from PIL import Image\n",
    "\n",
    "# Sk learn\n",
    "from sklearn.model_selection import train_test_split\n",
    "\n",
    "# PyTorch\n",
    "import torch\n",
    "from torch.utils.data import Dataset, DataLoader\n",
    "import torchvision\n",
    "from torchvision import transforms, datasets, models\n",
    "from torchvision.models.detection.faster_rcnn import FastRCNNPredictor\n",
    "from torchvision.models.detection.mask_rcnn import MaskRCNNPredictor\n"
   ]
  },
  {
   "cell_type": "code",
   "execution_count": 3,
   "metadata": {},
   "outputs": [],
   "source": [
    "import engine\n",
    "import utils"
   ]
  },
  {
   "cell_type": "code",
   "execution_count": 4,
   "metadata": {},
   "outputs": [
    {
     "data": {
      "text/plain": [
       "853"
      ]
     },
     "execution_count": 4,
     "metadata": {},
     "output_type": "execute_result"
    }
   ],
   "source": [
    "# Count the total number of images\n",
    "\n",
    "img_list = list(sorted(os.listdir('./data/images/')))\n",
    "len(img_list)"
   ]
  },
  {
   "cell_type": "markdown",
   "metadata": {},
   "source": [
    "#### Split the data"
   ]
  },
  {
   "cell_type": "code",
   "execution_count": 5,
   "metadata": {},
   "outputs": [
    {
     "name": "stdout",
     "output_type": "stream",
     "text": [
      "No. of training images: 682\n",
      "No. of test images: 171\n"
     ]
    }
   ],
   "source": [
    "train_img, test_img = train_test_split(img_list, test_size = 0.2, random_state=42)\n",
    "print(f\"No. of training images: {len(train_img)}\")\n",
    "print(f\"No. of test images: {len(test_img)}\")"
   ]
  },
  {
   "cell_type": "markdown",
   "metadata": {},
   "source": [
    "### DataSet Class"
   ]
  },
  {
   "cell_type": "code",
   "execution_count": 6,
   "metadata": {},
   "outputs": [],
   "source": [
    "from bs4 import BeautifulSoup\n",
    "from torchvision import transforms as T\n",
    "\n",
    "def collate_fn(batch):\n",
    "    data_list, label_list = [], []\n",
    "    for _data, _label in batch:\n",
    "        data_list.append(_data)\n",
    "        label_list.append(_label)\n",
    "    return torch.Tensor(data_list), torch.LongTensor(label_list)\n",
    "\n",
    "\n",
    "def generate_box(obj):\n",
    "    xmin = int(obj.find('xmin').text)\n",
    "    ymin = int(obj.find('ymin').text)\n",
    "    xmax = int(obj.find('xmax').text)\n",
    "    ymax = int(obj.find('ymax').text)\n",
    "    return [xmin, ymin, xmax, ymax]\n",
    "\n",
    "def generate_labels(obj):\n",
    "    if obj.find('name').text == \"with_mask\":\n",
    "        return 1\n",
    "    elif obj.find('name').text == \"mask_weared_incorrect\":\n",
    "        return 2\n",
    "    elif obj.find('name').text == \"without_mask\":\n",
    "        return 3\n",
    "    return 0\n",
    "\n",
    "def get_transform():\n",
    "    transforms = []\n",
    "    transforms.append(T.PILToTensor())\n",
    "    transforms.append(T.ConvertImageDtype(torch.float),)\n",
    "    return T.Compose(transforms)\n"
   ]
  },
  {
   "cell_type": "code",
   "execution_count": 7,
   "metadata": {},
   "outputs": [],
   "source": [
    "class MaskDataset(Dataset):\n",
    "    def __init__(self, img_dir, annot_dir, img_list, transforms):\n",
    "        self.transforms = transforms\n",
    "        self.imgs = img_list\n",
    "        self.img_dir = img_dir\n",
    "        self.annot_dir = annot_dir\n",
    "\n",
    "    def __len__(self):\n",
    "        return len(self.imgs)\n",
    "\n",
    "    def __getitem__(self, idx):\n",
    "        f_image = 'maksssksksss'+ str(idx) + '.png'\n",
    "        f_label = 'maksssksksss'+ str(idx) + '.xml'\n",
    "        \n",
    "        img_path = os.path.join(self.img_dir, f_image)\n",
    "        label_path = os.path.join(self.annot_dir, f_label)\n",
    "        \n",
    "        # Open the image\n",
    "        img = Image.open(img_path).convert(\"RGB\")\n",
    "        \n",
    "        target = self.__generate_target(idx, label_path)\n",
    "        \n",
    "        if self.transforms is not None:\n",
    "            # img, target = self.transforms(img, target)\n",
    "            img = self.transforms(img)\n",
    "\n",
    "        return img, target\n",
    "    \n",
    "    \n",
    "    @staticmethod\n",
    "    def __generate_target(img_id, file):\n",
    "        with open(file, 'r') as f:\n",
    "            data = f.read()\n",
    "            soup = BeautifulSoup(data, 'xml')\n",
    "            objects = soup.find_all('object')\n",
    "            \n",
    "            num_objects = len(objects)\n",
    "            \n",
    "            # Bounding boxes\n",
    "            boxes = []\n",
    "            labels = []\n",
    "            \n",
    "            for i in objects:\n",
    "                boxes.append(generate_box(i))\n",
    "                labels.append(generate_labels(i))\n",
    "        \n",
    "            # Convert to tensor\n",
    "            boxes = torch.as_tensor(boxes, dtype=torch.float32)\n",
    "            labels = torch.as_tensor(labels, dtype=torch.int64)\n",
    "            \n",
    "            img_id = torch.tensor(img_id)\n",
    "            \n",
    "            # Area is width and height\n",
    "            area = (boxes[:, 3] - boxes[:, 1]) * (boxes[:, 2] - boxes[:, 0])\n",
    "            iscrowd = torch.zeros((num_objects,), dtype=torch.int64)\n",
    "            \n",
    "            # Return a dictionary format\n",
    "            target = {}\n",
    "            target['boxes'] = boxes\n",
    "            target['labels'] = labels\n",
    "            target['image_id'] = img_id\n",
    "            target['area'] = area\n",
    "            target['iscrowd'] = iscrowd\n",
    "            \n",
    "            return target"
   ]
  },
  {
   "cell_type": "markdown",
   "metadata": {},
   "source": [
    "### DataLoader Class"
   ]
  },
  {
   "cell_type": "code",
   "execution_count": 11,
   "metadata": {},
   "outputs": [],
   "source": [
    "def collate_fn(batch):\n",
    "    return tuple(zip(*batch))"
   ]
  },
  {
   "cell_type": "code",
   "execution_count": 12,
   "metadata": {},
   "outputs": [],
   "source": [
    "train_dataset = MaskDataset(img_dir= './data/images/',\n",
    "                        annot_dir= './data/annotations/',\n",
    "                        img_list= train_img,\n",
    "                        transforms= get_transform())"
   ]
  },
  {
   "cell_type": "code",
   "execution_count": 13,
   "metadata": {},
   "outputs": [],
   "source": [
    "test_dataset = MaskDataset(img_dir='./data/images/',\n",
    "                            annot_dir= './data/annotations/',\n",
    "                            img_list= test_img,\n",
    "                            transforms= get_transform())"
   ]
  },
  {
   "cell_type": "code",
   "execution_count": 19,
   "metadata": {},
   "outputs": [],
   "source": [
    "train_loader = DataLoader(train_dataset, batch_size = 4, shuffle = True, num_workers = 0, collate_fn=collate_fn)\n"
   ]
  },
  {
   "cell_type": "code",
   "execution_count": 20,
   "metadata": {},
   "outputs": [],
   "source": [
    "test_loader = DataLoader(test_dataset, batch_size = 1, shuffle = False, num_workers = 0, collate_fn = collate_fn)"
   ]
  },
  {
   "cell_type": "markdown",
   "metadata": {},
   "source": [
    "### Define Model"
   ]
  },
  {
   "cell_type": "code",
   "execution_count": 21,
   "metadata": {},
   "outputs": [],
   "source": [
    "def model_instance_segmentation(num_classes: int, pretrained: bool = True):\n",
    "    \n",
    "    # Load pre-trained model\n",
    "    model = torchvision.models.detection.fasterrcnn_resnet50_fpn(pretrained=pretrained)\n",
    "    \n",
    "    \n",
    "    # replace the classifier with a new one, that has\n",
    "    # num_classes which is user-defined\n",
    "    # get number of input features for the classifier\n",
    "    in_features = model.roi_heads.box_predictor.cls_score.in_features\n",
    "    # replace the pre-trained head with a new one\n",
    "    model.roi_heads.box_predictor = FastRCNNPredictor(in_features, num_classes)\n",
    "\n",
    "    return model"
   ]
  },
  {
   "cell_type": "markdown",
   "metadata": {},
   "source": [
    "### Create Training Loop"
   ]
  },
  {
   "cell_type": "code",
   "execution_count": 22,
   "metadata": {},
   "outputs": [],
   "source": [
    "def train_model(epochs = 10):\n",
    "    device = torch.device('cuda') if torch.cuda.is_available() else torch.device('cpu')\n",
    "    \n",
    "    num_classes = 4\n",
    "    \n",
    "    model = model_instance_segmentation(num_classes)\n",
    "    model.to(device)\n",
    "    \n",
    "    params = [p for p in model.parameters() if p.requires_grad]\n",
    "    optimizer = torch.optim.SGD(params, lr=0.005, momentum=0.9, weight_decay=0.005)\n",
    "    lr_scheduler = torch.optim.lr_scheduler.CosineAnnealingLR(optimizer, T_max=epochs)\n",
    "    \n",
    "    # Training loop\n",
    "    for epoch in range(epochs):\n",
    "        engine.train_one_epoch(model, optimizer, train_loader, device, epoch, print_freq=10)\n",
    "        lr_scheduler.step()\n",
    "        engine.evaluate(model, test_loader, device=device)\n",
    "        \n",
    "    torch.save(model.state_dict(), \"checkpoint.pth\")\n",
    "        "
   ]
  },
  {
   "cell_type": "code",
   "execution_count": 23,
   "metadata": {},
   "outputs": [
    {
     "name": "stdout",
     "output_type": "stream",
     "text": [
      "Epoch: [0]  [  0/171]  eta: 0:51:34  lr: 0.000034  loss: 1.8886 (1.8886)  loss_classifier: 1.4287 (1.4287)  loss_box_reg: 0.1287 (0.1287)  loss_objectness: 0.2835 (0.2835)  loss_rpn_box_reg: 0.0477 (0.0477)  time: 18.0949  data: 0.0404\n",
      "Epoch: [0]  [ 10/171]  eta: 0:36:02  lr: 0.000328  loss: 1.7827 (1.5732)  loss_classifier: 1.2121 (1.1502)  loss_box_reg: 0.1438 (0.1573)  loss_objectness: 0.1752 (0.2300)  loss_rpn_box_reg: 0.0309 (0.0357)  time: 13.4304  data: 0.0395\n",
      "Epoch: [0]  [ 20/171]  eta: 0:32:31  lr: 0.000622  loss: 0.9439 (1.1671)  loss_classifier: 0.5411 (0.7826)  loss_box_reg: 0.1842 (0.1987)  loss_objectness: 0.1078 (0.1545)  loss_rpn_box_reg: 0.0193 (0.0313)  time: 12.6631  data: 0.0377\n",
      "Epoch: [0]  [ 30/171]  eta: 0:30:16  lr: 0.000916  loss: 0.6890 (1.0181)  loss_classifier: 0.3553 (0.6459)  loss_box_reg: 0.2617 (0.2268)  loss_objectness: 0.0397 (0.1199)  loss_rpn_box_reg: 0.0114 (0.0255)  time: 12.5853  data: 0.0354\n",
      "Epoch: [0]  [ 40/171]  eta: 0:28:37  lr: 0.001210  loss: 0.6648 (0.9462)  loss_classifier: 0.2886 (0.5521)  loss_box_reg: 0.3326 (0.2572)  loss_objectness: 0.0397 (0.1038)  loss_rpn_box_reg: 0.0111 (0.0332)  time: 13.3148  data: 0.0358\n",
      "Epoch: [0]  [ 50/171]  eta: 0:26:59  lr: 0.001503  loss: 0.6330 (0.8942)  loss_classifier: 0.2290 (0.4914)  loss_box_reg: 0.3351 (0.2823)  loss_objectness: 0.0345 (0.0901)  loss_rpn_box_reg: 0.0151 (0.0304)  time: 14.1585  data: 0.0363\n",
      "Epoch: [0]  [ 60/171]  eta: 0:24:29  lr: 0.001797  loss: 0.6271 (0.8572)  loss_classifier: 0.2206 (0.4464)  loss_box_reg: 0.3778 (0.3041)  loss_objectness: 0.0265 (0.0792)  loss_rpn_box_reg: 0.0132 (0.0275)  time: 13.4842  data: 0.0367\n",
      "Epoch: [0]  [ 70/171]  eta: 0:22:06  lr: 0.002091  loss: 0.5913 (0.8114)  loss_classifier: 0.2088 (0.4115)  loss_box_reg: 0.3522 (0.3045)  loss_objectness: 0.0172 (0.0702)  loss_rpn_box_reg: 0.0116 (0.0252)  time: 12.4800  data: 0.0369\n",
      "Epoch: [0]  [ 80/171]  eta: 0:19:50  lr: 0.002385  loss: 0.4920 (0.7744)  loss_classifier: 0.1859 (0.3831)  loss_box_reg: 0.2704 (0.3050)  loss_objectness: 0.0098 (0.0629)  loss_rpn_box_reg: 0.0088 (0.0234)  time: 12.6061  data: 0.0363\n",
      "Epoch: [0]  [ 90/171]  eta: 0:17:39  lr: 0.002679  loss: 0.4437 (0.7371)  loss_classifier: 0.1523 (0.3575)  loss_box_reg: 0.2514 (0.2993)  loss_objectness: 0.0098 (0.0580)  loss_rpn_box_reg: 0.0088 (0.0223)  time: 12.9041  data: 0.0375\n",
      "Epoch: [0]  [100/171]  eta: 0:15:21  lr: 0.002973  loss: 0.4540 (0.7121)  loss_classifier: 0.1613 (0.3395)  loss_box_reg: 0.2514 (0.2973)  loss_objectness: 0.0130 (0.0537)  loss_rpn_box_reg: 0.0112 (0.0215)  time: 12.5487  data: 0.0385\n",
      "Epoch: [0]  [110/171]  eta: 0:13:09  lr: 0.003266  loss: 0.3956 (0.6775)  loss_classifier: 0.1319 (0.3196)  loss_box_reg: 0.2175 (0.2882)  loss_objectness: 0.0090 (0.0498)  loss_rpn_box_reg: 0.0058 (0.0200)  time: 12.3621  data: 0.0363\n",
      "Epoch: [0]  [120/171]  eta: 0:11:03  lr: 0.003560  loss: 0.2775 (0.6509)  loss_classifier: 0.0924 (0.3033)  loss_box_reg: 0.1760 (0.2826)  loss_objectness: 0.0041 (0.0461)  loss_rpn_box_reg: 0.0046 (0.0189)  time: 13.2416  data: 0.0360\n",
      "Epoch: [0]  [130/171]  eta: 0:08:58  lr: 0.003854  loss: 0.3751 (0.6320)  loss_classifier: 0.1229 (0.2901)  loss_box_reg: 0.2481 (0.2787)  loss_objectness: 0.0060 (0.0446)  loss_rpn_box_reg: 0.0054 (0.0186)  time: 14.1309  data: 0.0385\n",
      "Epoch: [0]  [140/171]  eta: 0:06:44  lr: 0.004148  loss: 0.3751 (0.6165)  loss_classifier: 0.1229 (0.2800)  loss_box_reg: 0.2251 (0.2759)  loss_objectness: 0.0084 (0.0425)  loss_rpn_box_reg: 0.0076 (0.0180)  time: 13.2281  data: 0.0376\n",
      "Epoch: [0]  [150/171]  eta: 0:04:34  lr: 0.004442  loss: 0.3084 (0.5979)  loss_classifier: 0.1190 (0.2693)  loss_box_reg: 0.1974 (0.2711)  loss_objectness: 0.0058 (0.0402)  loss_rpn_box_reg: 0.0075 (0.0174)  time: 12.8456  data: 0.0350\n",
      "Epoch: [0]  [160/171]  eta: 0:02:23  lr: 0.004736  loss: 0.3278 (0.5837)  loss_classifier: 0.1005 (0.2596)  loss_box_reg: 0.2139 (0.2684)  loss_objectness: 0.0057 (0.0386)  loss_rpn_box_reg: 0.0067 (0.0171)  time: 12.7857  data: 0.0363\n",
      "Epoch: [0]  [170/171]  eta: 0:00:12  lr: 0.005000  loss: 0.3210 (0.5674)  loss_classifier: 0.0929 (0.2500)  loss_box_reg: 0.2002 (0.2638)  loss_objectness: 0.0073 (0.0368)  loss_rpn_box_reg: 0.0079 (0.0169)  time: 11.9528  data: 0.0377\n",
      "Epoch: [0] Total time: 0:36:56 (12.9599 s / it)\n"
     ]
    },
    {
     "name": "stderr",
     "output_type": "stream",
     "text": [
      "[W ParallelNative.cpp:229] Warning: Cannot set number of intraop threads after parallel work has started or after set_num_threads call when using native parallel backend (function set_num_threads)\n"
     ]
    },
    {
     "name": "stdout",
     "output_type": "stream",
     "text": [
      "creating index...\n",
      "index created!\n",
      "Test:  [  0/171]  eta: 0:02:07  model_time: 0.7335 (0.7335)  evaluator_time: 0.0031 (0.0031)  time: 0.7430  data: 0.0064\n",
      "Test:  [100/171]  eta: 0:00:54  model_time: 0.7874 (0.7585)  evaluator_time: 0.0009 (0.0016)  time: 0.7914  data: 0.0079\n",
      "Test:  [170/171]  eta: 0:00:00  model_time: 0.7364 (0.7580)  evaluator_time: 0.0009 (0.0015)  time: 0.7707  data: 0.0077\n",
      "Test: Total time: 0:02:11 (0.7676 s / it)\n",
      "Averaged stats: model_time: 0.7364 (0.7580)  evaluator_time: 0.0009 (0.0015)\n",
      "Accumulating evaluation results...\n",
      "DONE (t=0.04s).\n",
      "IoU metric: bbox\n",
      " Average Precision  (AP) @[ IoU=0.50:0.95 | area=   all | maxDets=100 ] = 0.301\n",
      " Average Precision  (AP) @[ IoU=0.50      | area=   all | maxDets=100 ] = 0.571\n",
      " Average Precision  (AP) @[ IoU=0.75      | area=   all | maxDets=100 ] = 0.276\n",
      " Average Precision  (AP) @[ IoU=0.50:0.95 | area= small | maxDets=100 ] = 0.278\n",
      " Average Precision  (AP) @[ IoU=0.50:0.95 | area=medium | maxDets=100 ] = 0.357\n",
      " Average Precision  (AP) @[ IoU=0.50:0.95 | area= large | maxDets=100 ] = 0.478\n",
      " Average Recall     (AR) @[ IoU=0.50:0.95 | area=   all | maxDets=  1 ] = 0.135\n",
      " Average Recall     (AR) @[ IoU=0.50:0.95 | area=   all | maxDets= 10 ] = 0.349\n",
      " Average Recall     (AR) @[ IoU=0.50:0.95 | area=   all | maxDets=100 ] = 0.377\n",
      " Average Recall     (AR) @[ IoU=0.50:0.95 | area= small | maxDets=100 ] = 0.348\n",
      " Average Recall     (AR) @[ IoU=0.50:0.95 | area=medium | maxDets=100 ] = 0.414\n",
      " Average Recall     (AR) @[ IoU=0.50:0.95 | area= large | maxDets=100 ] = 0.503\n",
      "Epoch: [1]  [  0/171]  eta: 0:41:42  lr: 0.004878  loss: 0.2670 (0.2670)  loss_classifier: 0.0807 (0.0807)  loss_box_reg: 0.1720 (0.1720)  loss_objectness: 0.0074 (0.0074)  loss_rpn_box_reg: 0.0068 (0.0068)  time: 14.6350  data: 0.0265\n",
      "Epoch: [1]  [ 10/171]  eta: 0:36:41  lr: 0.004878  loss: 0.3275 (0.3077)  loss_classifier: 0.1003 (0.0988)  loss_box_reg: 0.1972 (0.1952)  loss_objectness: 0.0042 (0.0064)  loss_rpn_box_reg: 0.0068 (0.0073)  time: 13.6770  data: 0.0366\n",
      "Epoch: [1]  [ 20/171]  eta: 0:33:44  lr: 0.004878  loss: 0.2951 (0.2877)  loss_classifier: 0.0962 (0.0944)  loss_box_reg: 0.1861 (0.1811)  loss_objectness: 0.0038 (0.0052)  loss_rpn_box_reg: 0.0057 (0.0070)  time: 13.3483  data: 0.0369\n",
      "Epoch: [1]  [ 30/171]  eta: 0:31:37  lr: 0.004878  loss: 0.2589 (0.2904)  loss_classifier: 0.0781 (0.0944)  loss_box_reg: 0.1778 (0.1847)  loss_objectness: 0.0022 (0.0049)  loss_rpn_box_reg: 0.0046 (0.0064)  time: 13.3379  data: 0.0362\n",
      "Epoch: [1]  [ 40/171]  eta: 0:28:36  lr: 0.004878  loss: 0.2935 (0.3073)  loss_classifier: 0.0853 (0.1017)  loss_box_reg: 0.1947 (0.1923)  loss_objectness: 0.0037 (0.0060)  loss_rpn_box_reg: 0.0062 (0.0072)  time: 12.7879  data: 0.0376\n",
      "Epoch: [1]  [ 50/171]  eta: 0:26:35  lr: 0.004878  loss: 0.2857 (0.3137)  loss_classifier: 0.0973 (0.1051)  loss_box_reg: 0.1835 (0.1950)  loss_objectness: 0.0045 (0.0058)  loss_rpn_box_reg: 0.0071 (0.0078)  time: 12.7698  data: 0.0393\n",
      "Epoch: [1]  [ 60/171]  eta: 0:24:34  lr: 0.004878  loss: 0.2515 (0.3147)  loss_classifier: 0.0973 (0.1073)  loss_box_reg: 0.1530 (0.1925)  loss_objectness: 0.0028 (0.0061)  loss_rpn_box_reg: 0.0063 (0.0087)  time: 13.6511  data: 0.0391\n",
      "Epoch: [1]  [ 70/171]  eta: 0:22:35  lr: 0.004878  loss: 0.3259 (0.3196)  loss_classifier: 0.1189 (0.1092)  loss_box_reg: 0.1892 (0.1951)  loss_objectness: 0.0070 (0.0065)  loss_rpn_box_reg: 0.0076 (0.0088)  time: 14.0055  data: 0.0386\n",
      "Epoch: [1]  [ 80/171]  eta: 0:20:29  lr: 0.004878  loss: 0.3683 (0.3189)  loss_classifier: 0.1165 (0.1074)  loss_box_reg: 0.2039 (0.1932)  loss_objectness: 0.0070 (0.0072)  loss_rpn_box_reg: 0.0064 (0.0111)  time: 14.2049  data: 0.0382\n",
      "Epoch: [1]  [ 90/171]  eta: 0:18:27  lr: 0.004878  loss: 0.2716 (0.3151)  loss_classifier: 0.0953 (0.1065)  loss_box_reg: 0.1864 (0.1914)  loss_objectness: 0.0021 (0.0067)  loss_rpn_box_reg: 0.0041 (0.0104)  time: 14.6020  data: 0.0369\n",
      "Epoch: [1]  [100/171]  eta: 0:16:16  lr: 0.004878  loss: 0.2738 (0.3116)  loss_classifier: 0.0794 (0.1054)  loss_box_reg: 0.1837 (0.1893)  loss_objectness: 0.0019 (0.0069)  loss_rpn_box_reg: 0.0047 (0.0100)  time: 14.7610  data: 0.0366\n",
      "Epoch: [1]  [110/171]  eta: 0:14:08  lr: 0.004878  loss: 0.2738 (0.3150)  loss_classifier: 0.0921 (0.1073)  loss_box_reg: 0.1796 (0.1909)  loss_objectness: 0.0050 (0.0068)  loss_rpn_box_reg: 0.0057 (0.0100)  time: 14.9871  data: 0.0432\n",
      "Epoch: [1]  [120/171]  eta: 0:11:43  lr: 0.004878  loss: 0.2688 (0.3121)  loss_classifier: 0.0942 (0.1062)  loss_box_reg: 0.1709 (0.1897)  loss_objectness: 0.0025 (0.0066)  loss_rpn_box_reg: 0.0055 (0.0095)  time: 13.9823  data: 0.0412\n",
      "Epoch: [1]  [130/171]  eta: 0:09:20  lr: 0.004878  loss: 0.2688 (0.3082)  loss_classifier: 0.0778 (0.1038)  loss_box_reg: 0.1650 (0.1886)  loss_objectness: 0.0024 (0.0065)  loss_rpn_box_reg: 0.0068 (0.0094)  time: 12.3192  data: 0.0348\n",
      "Epoch: [1]  [140/171]  eta: 0:07:02  lr: 0.004878  loss: 0.2457 (0.3058)  loss_classifier: 0.0778 (0.1032)  loss_box_reg: 0.1582 (0.1869)  loss_objectness: 0.0032 (0.0065)  loss_rpn_box_reg: 0.0068 (0.0092)  time: 12.5861  data: 0.0354\n",
      "Epoch: [1]  [150/171]  eta: 0:04:43  lr: 0.004878  loss: 0.2025 (0.3027)  loss_classifier: 0.0700 (0.1021)  loss_box_reg: 0.1413 (0.1853)  loss_objectness: 0.0045 (0.0064)  loss_rpn_box_reg: 0.0047 (0.0089)  time: 12.4736  data: 0.0344\n",
      "Epoch: [1]  [160/171]  eta: 0:02:27  lr: 0.004878  loss: 0.2932 (0.3081)  loss_classifier: 0.0997 (0.1039)  loss_box_reg: 0.1863 (0.1878)  loss_objectness: 0.0045 (0.0073)  loss_rpn_box_reg: 0.0047 (0.0091)  time: 11.5345  data: 0.0363\n",
      "Epoch: [1]  [170/171]  eta: 0:00:13  lr: 0.004878  loss: 0.2856 (0.3063)  loss_classifier: 0.0963 (0.1034)  loss_box_reg: 0.1781 (0.1865)  loss_objectness: 0.0043 (0.0075)  loss_rpn_box_reg: 0.0067 (0.0090)  time: 11.5245  data: 0.0360\n",
      "Epoch: [1] Total time: 0:37:50 (13.2799 s / it)\n"
     ]
    },
    {
     "name": "stderr",
     "output_type": "stream",
     "text": [
      "[W ParallelNative.cpp:229] Warning: Cannot set number of intraop threads after parallel work has started or after set_num_threads call when using native parallel backend (function set_num_threads)\n"
     ]
    },
    {
     "name": "stdout",
     "output_type": "stream",
     "text": [
      "creating index...\n",
      "index created!\n",
      "Test:  [  0/171]  eta: 0:01:58  model_time: 0.6884 (0.6884)  evaluator_time: 0.0013 (0.0013)  time: 0.6957  data: 0.0061\n",
      "Test:  [100/171]  eta: 0:00:51  model_time: 0.7360 (0.7176)  evaluator_time: 0.0009 (0.0014)  time: 0.7368  data: 0.0079\n",
      "Test:  [170/171]  eta: 0:00:00  model_time: 0.6918 (0.7196)  evaluator_time: 0.0009 (0.0013)  time: 0.7381  data: 0.0076\n",
      "Test: Total time: 0:02:04 (0.7289 s / it)\n",
      "Averaged stats: model_time: 0.6918 (0.7196)  evaluator_time: 0.0009 (0.0013)\n",
      "Accumulating evaluation results...\n",
      "DONE (t=0.03s).\n",
      "IoU metric: bbox\n",
      " Average Precision  (AP) @[ IoU=0.50:0.95 | area=   all | maxDets=100 ] = 0.419\n",
      " Average Precision  (AP) @[ IoU=0.50      | area=   all | maxDets=100 ] = 0.678\n",
      " Average Precision  (AP) @[ IoU=0.75      | area=   all | maxDets=100 ] = 0.495\n",
      " Average Precision  (AP) @[ IoU=0.50:0.95 | area= small | maxDets=100 ] = 0.362\n",
      " Average Precision  (AP) @[ IoU=0.50:0.95 | area=medium | maxDets=100 ] = 0.579\n",
      " Average Precision  (AP) @[ IoU=0.50:0.95 | area= large | maxDets=100 ] = 0.721\n",
      " Average Recall     (AR) @[ IoU=0.50:0.95 | area=   all | maxDets=  1 ] = 0.292\n",
      " Average Recall     (AR) @[ IoU=0.50:0.95 | area=   all | maxDets= 10 ] = 0.567\n",
      " Average Recall     (AR) @[ IoU=0.50:0.95 | area=   all | maxDets=100 ] = 0.596\n",
      " Average Recall     (AR) @[ IoU=0.50:0.95 | area= small | maxDets=100 ] = 0.509\n",
      " Average Recall     (AR) @[ IoU=0.50:0.95 | area=medium | maxDets=100 ] = 0.701\n",
      " Average Recall     (AR) @[ IoU=0.50:0.95 | area= large | maxDets=100 ] = 0.748\n",
      "Epoch: [2]  [  0/171]  eta: 0:27:52  lr: 0.004523  loss: 0.2998 (0.2998)  loss_classifier: 0.0987 (0.0987)  loss_box_reg: 0.1933 (0.1933)  loss_objectness: 0.0021 (0.0021)  loss_rpn_box_reg: 0.0057 (0.0057)  time: 9.7788  data: 0.0350\n",
      "Epoch: [2]  [ 10/171]  eta: 0:33:32  lr: 0.004523  loss: 0.3016 (0.3018)  loss_classifier: 0.0987 (0.0986)  loss_box_reg: 0.1933 (0.1904)  loss_objectness: 0.0034 (0.0054)  loss_rpn_box_reg: 0.0057 (0.0074)  time: 12.4992  data: 0.0362\n",
      "Epoch: [2]  [ 20/171]  eta: 0:31:59  lr: 0.004523  loss: 0.2941 (0.2997)  loss_classifier: 0.0993 (0.0991)  loss_box_reg: 0.1814 (0.1838)  loss_objectness: 0.0034 (0.0069)  loss_rpn_box_reg: 0.0063 (0.0099)  time: 12.8588  data: 0.0375\n",
      "Epoch: [2]  [ 30/171]  eta: 0:29:26  lr: 0.004523  loss: 0.2383 (0.2776)  loss_classifier: 0.0820 (0.0938)  loss_box_reg: 0.1503 (0.1700)  loss_objectness: 0.0018 (0.0059)  loss_rpn_box_reg: 0.0046 (0.0079)  time: 12.5395  data: 0.0373\n",
      "Epoch: [2]  [ 40/171]  eta: 0:27:14  lr: 0.004523  loss: 0.2334 (0.2718)  loss_classifier: 0.0760 (0.0898)  loss_box_reg: 0.1497 (0.1679)  loss_objectness: 0.0017 (0.0060)  loss_rpn_box_reg: 0.0034 (0.0080)  time: 12.2287  data: 0.0363\n",
      "Epoch: [2]  [ 50/171]  eta: 0:24:37  lr: 0.004523  loss: 0.2693 (0.2756)  loss_classifier: 0.0806 (0.0910)  loss_box_reg: 0.1771 (0.1706)  loss_objectness: 0.0051 (0.0060)  loss_rpn_box_reg: 0.0066 (0.0081)  time: 11.7150  data: 0.0368\n",
      "Epoch: [2]  [ 60/171]  eta: 0:23:03  lr: 0.004523  loss: 0.2693 (0.2695)  loss_classifier: 0.0824 (0.0898)  loss_box_reg: 0.1729 (0.1660)  loss_objectness: 0.0042 (0.0057)  loss_rpn_box_reg: 0.0055 (0.0080)  time: 12.4322  data: 0.0364\n",
      "Epoch: [2]  [ 70/171]  eta: 0:20:56  lr: 0.004523  loss: 0.2541 (0.2713)  loss_classifier: 0.0801 (0.0885)  loss_box_reg: 0.1680 (0.1675)  loss_objectness: 0.0018 (0.0054)  loss_rpn_box_reg: 0.0042 (0.0098)  time: 13.0371  data: 0.0366\n",
      "Epoch: [2]  [ 80/171]  eta: 0:18:49  lr: 0.004523  loss: 0.2206 (0.2647)  loss_classifier: 0.0656 (0.0861)  loss_box_reg: 0.1452 (0.1646)  loss_objectness: 0.0012 (0.0049)  loss_rpn_box_reg: 0.0041 (0.0091)  time: 12.2645  data: 0.0369\n",
      "Epoch: [2]  [ 90/171]  eta: 0:16:41  lr: 0.004523  loss: 0.2187 (0.2621)  loss_classifier: 0.0628 (0.0853)  loss_box_reg: 0.1344 (0.1633)  loss_objectness: 0.0016 (0.0047)  loss_rpn_box_reg: 0.0039 (0.0087)  time: 12.0683  data: 0.0415\n",
      "Epoch: [2]  [100/171]  eta: 0:14:37  lr: 0.004523  loss: 0.2705 (0.2610)  loss_classifier: 0.0703 (0.0837)  loss_box_reg: 0.1605 (0.1640)  loss_objectness: 0.0023 (0.0047)  loss_rpn_box_reg: 0.0055 (0.0087)  time: 12.1144  data: 0.0409\n",
      "Epoch: [2]  [110/171]  eta: 0:12:45  lr: 0.004523  loss: 0.2705 (0.2581)  loss_classifier: 0.0690 (0.0825)  loss_box_reg: 0.1559 (0.1624)  loss_objectness: 0.0012 (0.0046)  loss_rpn_box_reg: 0.0049 (0.0087)  time: 13.3738  data: 0.0358\n",
      "Epoch: [2]  [120/171]  eta: 0:10:38  lr: 0.004523  loss: 0.2048 (0.2561)  loss_classifier: 0.0690 (0.0832)  loss_box_reg: 0.1230 (0.1602)  loss_objectness: 0.0010 (0.0044)  loss_rpn_box_reg: 0.0031 (0.0083)  time: 13.4045  data: 0.0346\n",
      "Epoch: [2]  [130/171]  eta: 0:08:30  lr: 0.004523  loss: 0.2108 (0.2529)  loss_classifier: 0.0614 (0.0819)  loss_box_reg: 0.1459 (0.1588)  loss_objectness: 0.0010 (0.0042)  loss_rpn_box_reg: 0.0033 (0.0080)  time: 11.8725  data: 0.0346\n",
      "Epoch: [2]  [140/171]  eta: 0:06:26  lr: 0.004523  loss: 0.2366 (0.2564)  loss_classifier: 0.0671 (0.0838)  loss_box_reg: 0.1525 (0.1607)  loss_objectness: 0.0017 (0.0041)  loss_rpn_box_reg: 0.0039 (0.0078)  time: 12.0434  data: 0.0360\n",
      "Epoch: [2]  [150/171]  eta: 0:04:21  lr: 0.004523  loss: 0.2366 (0.2547)  loss_classifier: 0.0774 (0.0838)  loss_box_reg: 0.1525 (0.1592)  loss_objectness: 0.0019 (0.0041)  loss_rpn_box_reg: 0.0043 (0.0076)  time: 12.7093  data: 0.0353\n",
      "Epoch: [2]  [160/171]  eta: 0:02:16  lr: 0.004523  loss: 0.2016 (0.2522)  loss_classifier: 0.0663 (0.0832)  loss_box_reg: 0.1292 (0.1576)  loss_objectness: 0.0013 (0.0040)  loss_rpn_box_reg: 0.0023 (0.0074)  time: 12.4078  data: 0.0352\n",
      "Epoch: [2]  [170/171]  eta: 0:00:12  lr: 0.004523  loss: 0.1846 (0.2491)  loss_classifier: 0.0586 (0.0822)  loss_box_reg: 0.1246 (0.1558)  loss_objectness: 0.0011 (0.0039)  loss_rpn_box_reg: 0.0029 (0.0073)  time: 12.1319  data: 0.0347\n",
      "Epoch: [2] Total time: 0:35:26 (12.4354 s / it)\n"
     ]
    },
    {
     "name": "stderr",
     "output_type": "stream",
     "text": [
      "[W ParallelNative.cpp:229] Warning: Cannot set number of intraop threads after parallel work has started or after set_num_threads call when using native parallel backend (function set_num_threads)\n"
     ]
    },
    {
     "name": "stdout",
     "output_type": "stream",
     "text": [
      "creating index...\n",
      "index created!\n",
      "Test:  [  0/171]  eta: 0:02:00  model_time: 0.6961 (0.6961)  evaluator_time: 0.0009 (0.0009)  time: 0.7037  data: 0.0067\n",
      "Test:  [100/171]  eta: 0:00:51  model_time: 0.7407 (0.7232)  evaluator_time: 0.0007 (0.0012)  time: 0.7456  data: 0.0079\n",
      "Test:  [170/171]  eta: 0:00:00  model_time: 0.6611 (0.7172)  evaluator_time: 0.0007 (0.0011)  time: 0.7065  data: 0.0076\n",
      "Test: Total time: 0:02:04 (0.7262 s / it)\n",
      "Averaged stats: model_time: 0.6611 (0.7172)  evaluator_time: 0.0007 (0.0011)\n",
      "Accumulating evaluation results...\n",
      "DONE (t=0.03s).\n",
      "IoU metric: bbox\n",
      " Average Precision  (AP) @[ IoU=0.50:0.95 | area=   all | maxDets=100 ] = 0.499\n",
      " Average Precision  (AP) @[ IoU=0.50      | area=   all | maxDets=100 ] = 0.761\n",
      " Average Precision  (AP) @[ IoU=0.75      | area=   all | maxDets=100 ] = 0.619\n",
      " Average Precision  (AP) @[ IoU=0.50:0.95 | area= small | maxDets=100 ] = 0.422\n",
      " Average Precision  (AP) @[ IoU=0.50:0.95 | area=medium | maxDets=100 ] = 0.644\n",
      " Average Precision  (AP) @[ IoU=0.50:0.95 | area= large | maxDets=100 ] = 0.806\n",
      " Average Recall     (AR) @[ IoU=0.50:0.95 | area=   all | maxDets=  1 ] = 0.338\n",
      " Average Recall     (AR) @[ IoU=0.50:0.95 | area=   all | maxDets= 10 ] = 0.638\n",
      " Average Recall     (AR) @[ IoU=0.50:0.95 | area=   all | maxDets=100 ] = 0.669\n",
      " Average Recall     (AR) @[ IoU=0.50:0.95 | area= small | maxDets=100 ] = 0.613\n",
      " Average Recall     (AR) @[ IoU=0.50:0.95 | area=medium | maxDets=100 ] = 0.724\n",
      " Average Recall     (AR) @[ IoU=0.50:0.95 | area= large | maxDets=100 ] = 0.832\n",
      "Epoch: [3]  [  0/171]  eta: 0:39:52  lr: 0.003969  loss: 0.1578 (0.1578)  loss_classifier: 0.0553 (0.0553)  loss_box_reg: 0.0914 (0.0914)  loss_objectness: 0.0051 (0.0051)  loss_rpn_box_reg: 0.0060 (0.0060)  time: 13.9940  data: 0.0303\n",
      "Epoch: [3]  [ 10/171]  eta: 0:32:22  lr: 0.003969  loss: 0.1762 (0.1962)  loss_classifier: 0.0530 (0.0599)  loss_box_reg: 0.1287 (0.1304)  loss_objectness: 0.0009 (0.0024)  loss_rpn_box_reg: 0.0033 (0.0035)  time: 12.0648  data: 0.0326\n",
      "Epoch: [3]  [ 20/171]  eta: 0:31:11  lr: 0.003969  loss: 0.1978 (0.2030)  loss_classifier: 0.0594 (0.0670)  loss_box_reg: 0.1287 (0.1291)  loss_objectness: 0.0011 (0.0027)  loss_rpn_box_reg: 0.0033 (0.0043)  time: 12.3127  data: 0.0350\n",
      "Epoch: [3]  [ 30/171]  eta: 0:28:41  lr: 0.003969  loss: 0.2223 (0.2279)  loss_classifier: 0.0731 (0.0757)  loss_box_reg: 0.1389 (0.1416)  loss_objectness: 0.0019 (0.0037)  loss_rpn_box_reg: 0.0045 (0.0070)  time: 12.2855  data: 0.0381\n",
      "Epoch: [3]  [ 40/171]  eta: 0:27:27  lr: 0.003969  loss: 0.2153 (0.2266)  loss_classifier: 0.0752 (0.0760)  loss_box_reg: 0.1430 (0.1408)  loss_objectness: 0.0024 (0.0033)  loss_rpn_box_reg: 0.0036 (0.0064)  time: 12.7710  data: 0.0374\n",
      "Epoch: [3]  [ 50/171]  eta: 0:25:15  lr: 0.003969  loss: 0.2204 (0.2303)  loss_classifier: 0.0742 (0.0771)  loss_box_reg: 0.1483 (0.1441)  loss_objectness: 0.0017 (0.0030)  loss_rpn_box_reg: 0.0039 (0.0061)  time: 13.0127  data: 0.0357\n",
      "Epoch: [3]  [ 60/171]  eta: 0:23:07  lr: 0.003969  loss: 0.2434 (0.2336)  loss_classifier: 0.0717 (0.0776)  loss_box_reg: 0.1554 (0.1471)  loss_objectness: 0.0010 (0.0029)  loss_rpn_box_reg: 0.0039 (0.0060)  time: 12.3429  data: 0.0367\n",
      "Epoch: [3]  [ 70/171]  eta: 0:20:51  lr: 0.003969  loss: 0.2271 (0.2283)  loss_classifier: 0.0592 (0.0752)  loss_box_reg: 0.1356 (0.1448)  loss_objectness: 0.0009 (0.0027)  loss_rpn_box_reg: 0.0030 (0.0056)  time: 12.0560  data: 0.0360\n",
      "Epoch: [3]  [ 80/171]  eta: 0:18:42  lr: 0.003969  loss: 0.1734 (0.2262)  loss_classifier: 0.0482 (0.0750)  loss_box_reg: 0.1217 (0.1432)  loss_objectness: 0.0007 (0.0026)  loss_rpn_box_reg: 0.0028 (0.0055)  time: 11.8194  data: 0.0339\n",
      "Epoch: [3]  [ 90/171]  eta: 0:16:36  lr: 0.003969  loss: 0.2292 (0.2301)  loss_classifier: 0.0738 (0.0759)  loss_box_reg: 0.1415 (0.1445)  loss_objectness: 0.0009 (0.0030)  loss_rpn_box_reg: 0.0039 (0.0067)  time: 11.9898  data: 0.0355\n",
      "Epoch: [3]  [100/171]  eta: 0:14:30  lr: 0.003969  loss: 0.2292 (0.2319)  loss_classifier: 0.0754 (0.0762)  loss_box_reg: 0.1419 (0.1456)  loss_objectness: 0.0040 (0.0032)  loss_rpn_box_reg: 0.0047 (0.0070)  time: 11.9557  data: 0.0363\n",
      "Epoch: [3]  [110/171]  eta: 0:12:29  lr: 0.003969  loss: 0.2255 (0.2319)  loss_classifier: 0.0748 (0.0760)  loss_box_reg: 0.1363 (0.1455)  loss_objectness: 0.0033 (0.0034)  loss_rpn_box_reg: 0.0041 (0.0070)  time: 12.2459  data: 0.0416\n",
      "Epoch: [3]  [120/171]  eta: 0:10:26  lr: 0.003969  loss: 0.1870 (0.2269)  loss_classifier: 0.0660 (0.0745)  loss_box_reg: 0.1088 (0.1424)  loss_objectness: 0.0015 (0.0033)  loss_rpn_box_reg: 0.0021 (0.0066)  time: 12.4720  data: 0.0412\n",
      "Epoch: [3]  [130/171]  eta: 0:08:23  lr: 0.003969  loss: 0.1584 (0.2301)  loss_classifier: 0.0660 (0.0754)  loss_box_reg: 0.0991 (0.1448)  loss_objectness: 0.0016 (0.0032)  loss_rpn_box_reg: 0.0026 (0.0067)  time: 12.1885  data: 0.0349\n",
      "Epoch: [3]  [140/171]  eta: 0:06:20  lr: 0.003969  loss: 0.2391 (0.2325)  loss_classifier: 0.0664 (0.0759)  loss_box_reg: 0.1646 (0.1466)  loss_objectness: 0.0018 (0.0032)  loss_rpn_box_reg: 0.0047 (0.0068)  time: 12.2576  data: 0.0357\n",
      "Epoch: [3]  [150/171]  eta: 0:04:17  lr: 0.003969  loss: 0.1960 (0.2318)  loss_classifier: 0.0664 (0.0757)  loss_box_reg: 0.1404 (0.1462)  loss_objectness: 0.0013 (0.0031)  loss_rpn_box_reg: 0.0037 (0.0067)  time: 12.3087  data: 0.0365\n",
      "Epoch: [3]  [160/171]  eta: 0:02:15  lr: 0.003969  loss: 0.1928 (0.2282)  loss_classifier: 0.0640 (0.0744)  loss_box_reg: 0.1208 (0.1442)  loss_objectness: 0.0007 (0.0030)  loss_rpn_box_reg: 0.0027 (0.0065)  time: 12.2494  data: 0.0352\n",
      "Epoch: [3]  [170/171]  eta: 0:00:12  lr: 0.003969  loss: 0.1887 (0.2269)  loss_classifier: 0.0559 (0.0745)  loss_box_reg: 0.1208 (0.1431)  loss_objectness: 0.0007 (0.0029)  loss_rpn_box_reg: 0.0034 (0.0064)  time: 12.7005  data: 0.0332\n",
      "Epoch: [3] Total time: 0:35:08 (12.3304 s / it)\n"
     ]
    },
    {
     "name": "stderr",
     "output_type": "stream",
     "text": [
      "[W ParallelNative.cpp:229] Warning: Cannot set number of intraop threads after parallel work has started or after set_num_threads call when using native parallel backend (function set_num_threads)\n"
     ]
    },
    {
     "name": "stdout",
     "output_type": "stream",
     "text": [
      "creating index...\n",
      "index created!\n",
      "Test:  [  0/171]  eta: 0:02:03  model_time: 0.7125 (0.7125)  evaluator_time: 0.0036 (0.0036)  time: 0.7231  data: 0.0069\n",
      "Test:  [100/171]  eta: 0:00:51  model_time: 0.7450 (0.7219)  evaluator_time: 0.0007 (0.0014)  time: 0.7464  data: 0.0078\n",
      "Test:  [170/171]  eta: 0:00:00  model_time: 0.6730 (0.7201)  evaluator_time: 0.0007 (0.0012)  time: 0.7251  data: 0.0076\n",
      "Test: Total time: 0:02:04 (0.7293 s / it)\n",
      "Averaged stats: model_time: 0.6730 (0.7201)  evaluator_time: 0.0007 (0.0012)\n",
      "Accumulating evaluation results...\n",
      "DONE (t=0.03s).\n",
      "IoU metric: bbox\n",
      " Average Precision  (AP) @[ IoU=0.50:0.95 | area=   all | maxDets=100 ] = 0.609\n",
      " Average Precision  (AP) @[ IoU=0.50      | area=   all | maxDets=100 ] = 0.887\n",
      " Average Precision  (AP) @[ IoU=0.75      | area=   all | maxDets=100 ] = 0.733\n",
      " Average Precision  (AP) @[ IoU=0.50:0.95 | area= small | maxDets=100 ] = 0.526\n",
      " Average Precision  (AP) @[ IoU=0.50:0.95 | area=medium | maxDets=100 ] = 0.749\n",
      " Average Precision  (AP) @[ IoU=0.50:0.95 | area= large | maxDets=100 ] = 0.790\n",
      " Average Recall     (AR) @[ IoU=0.50:0.95 | area=   all | maxDets=  1 ] = 0.348\n",
      " Average Recall     (AR) @[ IoU=0.50:0.95 | area=   all | maxDets= 10 ] = 0.668\n",
      " Average Recall     (AR) @[ IoU=0.50:0.95 | area=   all | maxDets=100 ] = 0.703\n",
      " Average Recall     (AR) @[ IoU=0.50:0.95 | area= small | maxDets=100 ] = 0.618\n",
      " Average Recall     (AR) @[ IoU=0.50:0.95 | area=medium | maxDets=100 ] = 0.818\n",
      " Average Recall     (AR) @[ IoU=0.50:0.95 | area= large | maxDets=100 ] = 0.823\n",
      "Epoch: [4]  [  0/171]  eta: 0:43:00  lr: 0.003273  loss: 0.2811 (0.2811)  loss_classifier: 0.0708 (0.0708)  loss_box_reg: 0.2006 (0.2006)  loss_objectness: 0.0029 (0.0029)  loss_rpn_box_reg: 0.0068 (0.0068)  time: 15.0889  data: 0.0339\n",
      "Epoch: [4]  [ 10/171]  eta: 0:31:42  lr: 0.003273  loss: 0.2014 (0.2213)  loss_classifier: 0.0634 (0.0686)  loss_box_reg: 0.1416 (0.1480)  loss_objectness: 0.0005 (0.0010)  loss_rpn_box_reg: 0.0039 (0.0037)  time: 11.8195  data: 0.0351\n",
      "Epoch: [4]  [ 20/171]  eta: 0:30:11  lr: 0.003273  loss: 0.2014 (0.2147)  loss_classifier: 0.0627 (0.0680)  loss_box_reg: 0.1416 (0.1401)  loss_objectness: 0.0008 (0.0015)  loss_rpn_box_reg: 0.0039 (0.0051)  time: 11.8406  data: 0.0359\n",
      "Epoch: [4]  [ 30/171]  eta: 0:28:48  lr: 0.003273  loss: 0.1622 (0.2118)  loss_classifier: 0.0621 (0.0679)  loss_box_reg: 0.0951 (0.1353)  loss_objectness: 0.0010 (0.0016)  loss_rpn_box_reg: 0.0027 (0.0070)  time: 12.4988  data: 0.0355\n",
      "Epoch: [4]  [ 40/171]  eta: 0:26:28  lr: 0.003273  loss: 0.1622 (0.2073)  loss_classifier: 0.0605 (0.0683)  loss_box_reg: 0.0910 (0.1311)  loss_objectness: 0.0007 (0.0017)  loss_rpn_box_reg: 0.0017 (0.0062)  time: 12.2645  data: 0.0349\n",
      "Epoch: [4]  [ 50/171]  eta: 0:24:49  lr: 0.003273  loss: 0.1996 (0.2074)  loss_classifier: 0.0693 (0.0679)  loss_box_reg: 0.1233 (0.1313)  loss_objectness: 0.0011 (0.0020)  loss_rpn_box_reg: 0.0022 (0.0061)  time: 12.3977  data: 0.0362\n",
      "Epoch: [4]  [ 60/171]  eta: 0:22:55  lr: 0.003273  loss: 0.1996 (0.2052)  loss_classifier: 0.0693 (0.0664)  loss_box_reg: 0.1233 (0.1303)  loss_objectness: 0.0011 (0.0023)  loss_rpn_box_reg: 0.0028 (0.0063)  time: 12.9230  data: 0.0367\n",
      "Epoch: [4]  [ 70/171]  eta: 0:20:58  lr: 0.003273  loss: 0.1713 (0.2061)  loss_classifier: 0.0544 (0.0674)  loss_box_reg: 0.1179 (0.1306)  loss_objectness: 0.0006 (0.0021)  loss_rpn_box_reg: 0.0033 (0.0060)  time: 12.8467  data: 0.0353\n",
      "Epoch: [4]  [ 80/171]  eta: 0:18:49  lr: 0.003273  loss: 0.1819 (0.2063)  loss_classifier: 0.0580 (0.0674)  loss_box_reg: 0.1228 (0.1310)  loss_objectness: 0.0007 (0.0020)  loss_rpn_box_reg: 0.0041 (0.0059)  time: 12.5045  data: 0.0355\n",
      "Epoch: [4]  [ 90/171]  eta: 0:16:49  lr: 0.003273  loss: 0.1782 (0.2053)  loss_classifier: 0.0615 (0.0682)  loss_box_reg: 0.1047 (0.1293)  loss_objectness: 0.0007 (0.0021)  loss_rpn_box_reg: 0.0041 (0.0058)  time: 12.4573  data: 0.0366\n",
      "Epoch: [4]  [100/171]  eta: 0:14:40  lr: 0.003273  loss: 0.1575 (0.2006)  loss_classifier: 0.0552 (0.0662)  loss_box_reg: 0.0950 (0.1268)  loss_objectness: 0.0013 (0.0020)  loss_rpn_box_reg: 0.0033 (0.0055)  time: 12.3051  data: 0.0350\n",
      "Epoch: [4]  [110/171]  eta: 0:12:33  lr: 0.003273  loss: 0.1826 (0.2011)  loss_classifier: 0.0591 (0.0661)  loss_box_reg: 0.1240 (0.1276)  loss_objectness: 0.0013 (0.0020)  loss_rpn_box_reg: 0.0032 (0.0054)  time: 11.8942  data: 0.0357\n",
      "Epoch: [4]  [120/171]  eta: 0:10:32  lr: 0.003273  loss: 0.2158 (0.2029)  loss_classifier: 0.0701 (0.0673)  loss_box_reg: 0.1344 (0.1283)  loss_objectness: 0.0011 (0.0020)  loss_rpn_box_reg: 0.0038 (0.0054)  time: 12.4400  data: 0.0429\n",
      "Epoch: [4]  [130/171]  eta: 0:08:27  lr: 0.003273  loss: 0.2321 (0.2046)  loss_classifier: 0.0819 (0.0676)  loss_box_reg: 0.1431 (0.1296)  loss_objectness: 0.0010 (0.0020)  loss_rpn_box_reg: 0.0052 (0.0054)  time: 12.4682  data: 0.0428\n",
      "Epoch: [4]  [140/171]  eta: 0:06:24  lr: 0.003273  loss: 0.1809 (0.2023)  loss_classifier: 0.0559 (0.0667)  loss_box_reg: 0.1208 (0.1282)  loss_objectness: 0.0009 (0.0020)  loss_rpn_box_reg: 0.0032 (0.0054)  time: 12.4615  data: 0.0365\n",
      "Epoch: [4]  [150/171]  eta: 0:04:19  lr: 0.003273  loss: 0.1723 (0.2033)  loss_classifier: 0.0522 (0.0669)  loss_box_reg: 0.1208 (0.1291)  loss_objectness: 0.0004 (0.0020)  loss_rpn_box_reg: 0.0024 (0.0053)  time: 12.4118  data: 0.0355\n",
      "Epoch: [4]  [160/171]  eta: 0:02:16  lr: 0.003273  loss: 0.1869 (0.2050)  loss_classifier: 0.0655 (0.0677)  loss_box_reg: 0.1297 (0.1297)  loss_objectness: 0.0005 (0.0021)  loss_rpn_box_reg: 0.0020 (0.0054)  time: 12.4016  data: 0.0367\n",
      "Epoch: [4]  [170/171]  eta: 0:00:12  lr: 0.003273  loss: 0.2034 (0.2072)  loss_classifier: 0.0655 (0.0681)  loss_box_reg: 0.1325 (0.1314)  loss_objectness: 0.0009 (0.0022)  loss_rpn_box_reg: 0.0031 (0.0056)  time: 12.3339  data: 0.0358\n",
      "Epoch: [4] Total time: 0:35:16 (12.3755 s / it)\n"
     ]
    },
    {
     "name": "stderr",
     "output_type": "stream",
     "text": [
      "[W ParallelNative.cpp:229] Warning: Cannot set number of intraop threads after parallel work has started or after set_num_threads call when using native parallel backend (function set_num_threads)\n"
     ]
    },
    {
     "name": "stdout",
     "output_type": "stream",
     "text": [
      "creating index...\n",
      "index created!\n",
      "Test:  [  0/171]  eta: 0:02:02  model_time: 0.7092 (0.7092)  evaluator_time: 0.0009 (0.0009)  time: 0.7162  data: 0.0061\n",
      "Test:  [100/171]  eta: 0:00:53  model_time: 0.7441 (0.7391)  evaluator_time: 0.0007 (0.0012)  time: 0.7483  data: 0.0079\n",
      "Test:  [170/171]  eta: 0:00:00  model_time: 0.6918 (0.7311)  evaluator_time: 0.0007 (0.0011)  time: 0.7348  data: 0.0076\n",
      "Test: Total time: 0:02:06 (0.7402 s / it)\n",
      "Averaged stats: model_time: 0.6918 (0.7311)  evaluator_time: 0.0007 (0.0011)\n",
      "Accumulating evaluation results...\n",
      "DONE (t=0.03s).\n",
      "IoU metric: bbox\n",
      " Average Precision  (AP) @[ IoU=0.50:0.95 | area=   all | maxDets=100 ] = 0.657\n",
      " Average Precision  (AP) @[ IoU=0.50      | area=   all | maxDets=100 ] = 0.910\n",
      " Average Precision  (AP) @[ IoU=0.75      | area=   all | maxDets=100 ] = 0.801\n",
      " Average Precision  (AP) @[ IoU=0.50:0.95 | area= small | maxDets=100 ] = 0.569\n",
      " Average Precision  (AP) @[ IoU=0.50:0.95 | area=medium | maxDets=100 ] = 0.776\n",
      " Average Precision  (AP) @[ IoU=0.50:0.95 | area= large | maxDets=100 ] = 0.844\n",
      " Average Recall     (AR) @[ IoU=0.50:0.95 | area=   all | maxDets=  1 ] = 0.367\n",
      " Average Recall     (AR) @[ IoU=0.50:0.95 | area=   all | maxDets= 10 ] = 0.703\n",
      " Average Recall     (AR) @[ IoU=0.50:0.95 | area=   all | maxDets=100 ] = 0.738\n",
      " Average Recall     (AR) @[ IoU=0.50:0.95 | area= small | maxDets=100 ] = 0.678\n",
      " Average Recall     (AR) @[ IoU=0.50:0.95 | area=medium | maxDets=100 ] = 0.818\n",
      " Average Recall     (AR) @[ IoU=0.50:0.95 | area= large | maxDets=100 ] = 0.860\n",
      "Epoch: [5]  [  0/171]  eta: 0:44:30  lr: 0.002500  loss: 0.2629 (0.2629)  loss_classifier: 0.0656 (0.0656)  loss_box_reg: 0.1574 (0.1574)  loss_objectness: 0.0113 (0.0113)  loss_rpn_box_reg: 0.0287 (0.0287)  time: 15.6166  data: 0.0361\n",
      "Epoch: [5]  [ 10/171]  eta: 0:33:49  lr: 0.002500  loss: 0.2453 (0.2057)  loss_classifier: 0.0656 (0.0653)  loss_box_reg: 0.1444 (0.1316)  loss_objectness: 0.0008 (0.0022)  loss_rpn_box_reg: 0.0045 (0.0066)  time: 12.6035  data: 0.0354\n",
      "Epoch: [5]  [ 20/171]  eta: 0:32:42  lr: 0.002500  loss: 0.1851 (0.1922)  loss_classifier: 0.0594 (0.0643)  loss_box_reg: 0.1135 (0.1201)  loss_objectness: 0.0011 (0.0022)  loss_rpn_box_reg: 0.0045 (0.0057)  time: 12.8671  data: 0.0354\n",
      "Epoch: [5]  [ 30/171]  eta: 0:30:15  lr: 0.002500  loss: 0.1788 (0.1871)  loss_classifier: 0.0594 (0.0610)  loss_box_reg: 0.1125 (0.1194)  loss_objectness: 0.0010 (0.0019)  loss_rpn_box_reg: 0.0032 (0.0049)  time: 13.0216  data: 0.0352\n",
      "Epoch: [5]  [ 40/171]  eta: 0:27:32  lr: 0.002500  loss: 0.1741 (0.1839)  loss_classifier: 0.0490 (0.0590)  loss_box_reg: 0.1170 (0.1180)  loss_objectness: 0.0006 (0.0020)  loss_rpn_box_reg: 0.0023 (0.0048)  time: 12.2069  data: 0.0356\n",
      "Epoch: [5]  [ 50/171]  eta: 0:25:43  lr: 0.002500  loss: 0.1757 (0.1826)  loss_classifier: 0.0534 (0.0591)  loss_box_reg: 0.1093 (0.1170)  loss_objectness: 0.0010 (0.0019)  loss_rpn_box_reg: 0.0036 (0.0047)  time: 12.5783  data: 0.0361\n",
      "Epoch: [5]  [ 60/171]  eta: 0:23:31  lr: 0.002500  loss: 0.1911 (0.1812)  loss_classifier: 0.0652 (0.0590)  loss_box_reg: 0.1199 (0.1161)  loss_objectness: 0.0009 (0.0017)  loss_rpn_box_reg: 0.0033 (0.0044)  time: 12.9280  data: 0.0355\n",
      "Epoch: [5]  [ 70/171]  eta: 0:21:05  lr: 0.002500  loss: 0.1829 (0.1814)  loss_classifier: 0.0609 (0.0587)  loss_box_reg: 0.1199 (0.1166)  loss_objectness: 0.0008 (0.0018)  loss_rpn_box_reg: 0.0027 (0.0043)  time: 11.9406  data: 0.0359\n",
      "Epoch: [5]  [ 80/171]  eta: 0:18:42  lr: 0.002500  loss: 0.1817 (0.1857)  loss_classifier: 0.0574 (0.0598)  loss_box_reg: 0.1132 (0.1195)  loss_objectness: 0.0009 (0.0018)  loss_rpn_box_reg: 0.0027 (0.0046)  time: 11.1603  data: 0.0372\n",
      "Epoch: [5]  [ 90/171]  eta: 0:16:49  lr: 0.002500  loss: 0.1467 (0.1823)  loss_classifier: 0.0574 (0.0593)  loss_box_reg: 0.0908 (0.1170)  loss_objectness: 0.0005 (0.0017)  loss_rpn_box_reg: 0.0017 (0.0042)  time: 12.2138  data: 0.0359\n",
      "Epoch: [5]  [100/171]  eta: 0:14:40  lr: 0.002500  loss: 0.1550 (0.1821)  loss_classifier: 0.0566 (0.0588)  loss_box_reg: 0.0948 (0.1171)  loss_objectness: 0.0008 (0.0017)  loss_rpn_box_reg: 0.0018 (0.0045)  time: 12.6613  data: 0.0345\n",
      "Epoch: [5]  [110/171]  eta: 0:12:44  lr: 0.002500  loss: 0.1757 (0.1794)  loss_classifier: 0.0552 (0.0581)  loss_box_reg: 0.1134 (0.1154)  loss_objectness: 0.0007 (0.0016)  loss_rpn_box_reg: 0.0031 (0.0043)  time: 12.8427  data: 0.0352\n",
      "Epoch: [5]  [120/171]  eta: 0:10:33  lr: 0.002500  loss: 0.1816 (0.1849)  loss_classifier: 0.0611 (0.0595)  loss_box_reg: 0.1134 (0.1184)  loss_objectness: 0.0007 (0.0017)  loss_rpn_box_reg: 0.0032 (0.0053)  time: 12.5118  data: 0.0369\n",
      "Epoch: [5]  [130/171]  eta: 0:08:28  lr: 0.002500  loss: 0.2109 (0.1832)  loss_classifier: 0.0645 (0.0591)  loss_box_reg: 0.1347 (0.1171)  loss_objectness: 0.0011 (0.0017)  loss_rpn_box_reg: 0.0057 (0.0054)  time: 11.6662  data: 0.0362\n",
      "Epoch: [5]  [140/171]  eta: 0:06:21  lr: 0.002500  loss: 0.2025 (0.1873)  loss_classifier: 0.0645 (0.0602)  loss_box_reg: 0.1232 (0.1197)  loss_objectness: 0.0012 (0.0019)  loss_rpn_box_reg: 0.0046 (0.0055)  time: 11.6404  data: 0.0368\n",
      "Epoch: [5]  [150/171]  eta: 0:04:19  lr: 0.002500  loss: 0.1710 (0.1832)  loss_classifier: 0.0479 (0.0594)  loss_box_reg: 0.0918 (0.1167)  loss_objectness: 0.0008 (0.0019)  loss_rpn_box_reg: 0.0018 (0.0052)  time: 12.0090  data: 0.0363\n",
      "Epoch: [5]  [160/171]  eta: 0:02:15  lr: 0.002500  loss: 0.1382 (0.1840)  loss_classifier: 0.0519 (0.0598)  loss_box_reg: 0.0903 (0.1172)  loss_objectness: 0.0008 (0.0019)  loss_rpn_box_reg: 0.0025 (0.0052)  time: 12.4413  data: 0.0351\n",
      "Epoch: [5]  [170/171]  eta: 0:00:12  lr: 0.002500  loss: 0.1877 (0.1839)  loss_classifier: 0.0577 (0.0599)  loss_box_reg: 0.1063 (0.1170)  loss_objectness: 0.0011 (0.0019)  loss_rpn_box_reg: 0.0032 (0.0052)  time: 11.6235  data: 0.0355\n",
      "Epoch: [5] Total time: 0:34:56 (12.2607 s / it)\n"
     ]
    },
    {
     "name": "stderr",
     "output_type": "stream",
     "text": [
      "[W ParallelNative.cpp:229] Warning: Cannot set number of intraop threads after parallel work has started or after set_num_threads call when using native parallel backend (function set_num_threads)\n"
     ]
    },
    {
     "name": "stdout",
     "output_type": "stream",
     "text": [
      "creating index...\n",
      "index created!\n",
      "Test:  [  0/171]  eta: 0:02:00  model_time: 0.6999 (0.6999)  evaluator_time: 0.0007 (0.0007)  time: 0.7066  data: 0.0059\n",
      "Test:  [100/171]  eta: 0:00:53  model_time: 0.7725 (0.7378)  evaluator_time: 0.0007 (0.0013)  time: 0.7706  data: 0.0080\n",
      "Test:  [170/171]  eta: 0:00:00  model_time: 0.6919 (0.7352)  evaluator_time: 0.0007 (0.0012)  time: 0.7443  data: 0.0076\n",
      "Test: Total time: 0:02:07 (0.7443 s / it)\n",
      "Averaged stats: model_time: 0.6919 (0.7352)  evaluator_time: 0.0007 (0.0012)\n",
      "Accumulating evaluation results...\n",
      "DONE (t=0.03s).\n",
      "IoU metric: bbox\n",
      " Average Precision  (AP) @[ IoU=0.50:0.95 | area=   all | maxDets=100 ] = 0.678\n",
      " Average Precision  (AP) @[ IoU=0.50      | area=   all | maxDets=100 ] = 0.931\n",
      " Average Precision  (AP) @[ IoU=0.75      | area=   all | maxDets=100 ] = 0.848\n",
      " Average Precision  (AP) @[ IoU=0.50:0.95 | area= small | maxDets=100 ] = 0.598\n",
      " Average Precision  (AP) @[ IoU=0.50:0.95 | area=medium | maxDets=100 ] = 0.802\n",
      " Average Precision  (AP) @[ IoU=0.50:0.95 | area= large | maxDets=100 ] = 0.820\n",
      " Average Recall     (AR) @[ IoU=0.50:0.95 | area=   all | maxDets=  1 ] = 0.370\n",
      " Average Recall     (AR) @[ IoU=0.50:0.95 | area=   all | maxDets= 10 ] = 0.704\n",
      " Average Recall     (AR) @[ IoU=0.50:0.95 | area=   all | maxDets=100 ] = 0.738\n",
      " Average Recall     (AR) @[ IoU=0.50:0.95 | area= small | maxDets=100 ] = 0.667\n",
      " Average Recall     (AR) @[ IoU=0.50:0.95 | area=medium | maxDets=100 ] = 0.839\n",
      " Average Recall     (AR) @[ IoU=0.50:0.95 | area= large | maxDets=100 ] = 0.843\n",
      "Epoch: [6]  [  0/171]  eta: 0:42:21  lr: 0.001727  loss: 0.1991 (0.1991)  loss_classifier: 0.0569 (0.0569)  loss_box_reg: 0.1163 (0.1163)  loss_objectness: 0.0107 (0.0107)  loss_rpn_box_reg: 0.0152 (0.0152)  time: 14.8608  data: 0.0365\n",
      "Epoch: [6]  [ 10/171]  eta: 0:33:36  lr: 0.001727  loss: 0.1856 (0.1675)  loss_classifier: 0.0569 (0.0531)  loss_box_reg: 0.1159 (0.1055)  loss_objectness: 0.0015 (0.0032)  loss_rpn_box_reg: 0.0036 (0.0057)  time: 12.5251  data: 0.0379\n",
      "Epoch: [6]  [ 20/171]  eta: 0:31:03  lr: 0.001727  loss: 0.1245 (0.1611)  loss_classifier: 0.0426 (0.0546)  loss_box_reg: 0.0825 (0.1002)  loss_objectness: 0.0005 (0.0020)  loss_rpn_box_reg: 0.0023 (0.0043)  time: 12.2165  data: 0.0367\n",
      "Epoch: [6]  [ 30/171]  eta: 0:28:14  lr: 0.001727  loss: 0.1663 (0.1746)  loss_classifier: 0.0553 (0.0577)  loss_box_reg: 0.1116 (0.1101)  loss_objectness: 0.0011 (0.0023)  loss_rpn_box_reg: 0.0031 (0.0045)  time: 11.7347  data: 0.0362\n",
      "Epoch: [6]  [ 40/171]  eta: 0:26:35  lr: 0.001727  loss: 0.1663 (0.1695)  loss_classifier: 0.0607 (0.0564)  loss_box_reg: 0.1126 (0.1067)  loss_objectness: 0.0008 (0.0021)  loss_rpn_box_reg: 0.0028 (0.0042)  time: 12.0047  data: 0.0358\n",
      "Epoch: [6]  [ 50/171]  eta: 0:24:13  lr: 0.001727  loss: 0.1505 (0.1673)  loss_classifier: 0.0432 (0.0560)  loss_box_reg: 0.0884 (0.1052)  loss_objectness: 0.0005 (0.0020)  loss_rpn_box_reg: 0.0019 (0.0040)  time: 12.0106  data: 0.0357\n",
      "Epoch: [6]  [ 60/171]  eta: 0:22:28  lr: 0.001727  loss: 0.1678 (0.1684)  loss_classifier: 0.0571 (0.0569)  loss_box_reg: 0.1045 (0.1057)  loss_objectness: 0.0007 (0.0018)  loss_rpn_box_reg: 0.0027 (0.0040)  time: 12.0938  data: 0.0376\n",
      "Epoch: [6]  [ 70/171]  eta: 0:20:44  lr: 0.001727  loss: 0.1579 (0.1680)  loss_classifier: 0.0538 (0.0561)  loss_box_reg: 0.0990 (0.1061)  loss_objectness: 0.0005 (0.0018)  loss_rpn_box_reg: 0.0025 (0.0041)  time: 13.1193  data: 0.0366\n",
      "Epoch: [6]  [ 80/171]  eta: 0:18:49  lr: 0.001727  loss: 0.1300 (0.1633)  loss_classifier: 0.0463 (0.0549)  loss_box_reg: 0.0885 (0.1029)  loss_objectness: 0.0004 (0.0017)  loss_rpn_box_reg: 0.0017 (0.0038)  time: 13.2228  data: 0.0345\n",
      "Epoch: [6]  [ 90/171]  eta: 0:16:47  lr: 0.001727  loss: 0.1236 (0.1634)  loss_classifier: 0.0433 (0.0548)  loss_box_reg: 0.0845 (0.1032)  loss_objectness: 0.0004 (0.0016)  loss_rpn_box_reg: 0.0019 (0.0038)  time: 12.8494  data: 0.0353\n",
      "Epoch: [6]  [100/171]  eta: 0:14:39  lr: 0.001727  loss: 0.1539 (0.1631)  loss_classifier: 0.0444 (0.0545)  loss_box_reg: 0.1045 (0.1028)  loss_objectness: 0.0006 (0.0017)  loss_rpn_box_reg: 0.0027 (0.0042)  time: 12.2429  data: 0.0356\n",
      "Epoch: [6]  [110/171]  eta: 0:12:41  lr: 0.001727  loss: 0.1246 (0.1629)  loss_classifier: 0.0444 (0.0545)  loss_box_reg: 0.0817 (0.1025)  loss_objectness: 0.0004 (0.0017)  loss_rpn_box_reg: 0.0018 (0.0043)  time: 12.6508  data: 0.0351\n",
      "Epoch: [6]  [120/171]  eta: 0:10:33  lr: 0.001727  loss: 0.1185 (0.1626)  loss_classifier: 0.0388 (0.0544)  loss_box_reg: 0.0817 (0.1019)  loss_objectness: 0.0005 (0.0017)  loss_rpn_box_reg: 0.0018 (0.0047)  time: 12.5767  data: 0.0351\n",
      "Epoch: [6]  [130/171]  eta: 0:08:26  lr: 0.001727  loss: 0.1219 (0.1616)  loss_classifier: 0.0386 (0.0537)  loss_box_reg: 0.0860 (0.1017)  loss_objectness: 0.0007 (0.0017)  loss_rpn_box_reg: 0.0020 (0.0046)  time: 11.7231  data: 0.0350\n",
      "Epoch: [6]  [140/171]  eta: 0:06:24  lr: 0.001727  loss: 0.1798 (0.1642)  loss_classifier: 0.0471 (0.0542)  loss_box_reg: 0.1111 (0.1033)  loss_objectness: 0.0008 (0.0019)  loss_rpn_box_reg: 0.0033 (0.0048)  time: 12.2387  data: 0.0355\n",
      "Epoch: [6]  [150/171]  eta: 0:04:21  lr: 0.001727  loss: 0.1852 (0.1649)  loss_classifier: 0.0572 (0.0545)  loss_box_reg: 0.1172 (0.1038)  loss_objectness: 0.0005 (0.0019)  loss_rpn_box_reg: 0.0033 (0.0047)  time: 13.1864  data: 0.0350\n",
      "Epoch: [6]  [160/171]  eta: 0:02:16  lr: 0.001727  loss: 0.1852 (0.1672)  loss_classifier: 0.0670 (0.0554)  loss_box_reg: 0.1160 (0.1052)  loss_objectness: 0.0006 (0.0018)  loss_rpn_box_reg: 0.0033 (0.0047)  time: 12.9025  data: 0.0361\n",
      "Epoch: [6]  [170/171]  eta: 0:00:12  lr: 0.001727  loss: 0.2042 (0.1661)  loss_classifier: 0.0670 (0.0552)  loss_box_reg: 0.1074 (0.1043)  loss_objectness: 0.0008 (0.0019)  loss_rpn_box_reg: 0.0036 (0.0047)  time: 12.0154  data: 0.0355\n",
      "Epoch: [6] Total time: 0:35:23 (12.4187 s / it)\n"
     ]
    },
    {
     "name": "stderr",
     "output_type": "stream",
     "text": [
      "[W ParallelNative.cpp:229] Warning: Cannot set number of intraop threads after parallel work has started or after set_num_threads call when using native parallel backend (function set_num_threads)\n"
     ]
    },
    {
     "name": "stdout",
     "output_type": "stream",
     "text": [
      "creating index...\n",
      "index created!\n",
      "Test:  [  0/171]  eta: 0:02:03  model_time: 0.7165 (0.7165)  evaluator_time: 0.0007 (0.0007)  time: 0.7232  data: 0.0060\n",
      "Test:  [100/171]  eta: 0:00:53  model_time: 0.7770 (0.7455)  evaluator_time: 0.0007 (0.0012)  time: 0.7735  data: 0.0079\n",
      "Test:  [170/171]  eta: 0:00:00  model_time: 0.7246 (0.7446)  evaluator_time: 0.0007 (0.0011)  time: 0.7596  data: 0.0077\n",
      "Test: Total time: 0:02:08 (0.7537 s / it)\n",
      "Averaged stats: model_time: 0.7246 (0.7446)  evaluator_time: 0.0007 (0.0011)\n",
      "Accumulating evaluation results...\n",
      "DONE (t=0.03s).\n",
      "IoU metric: bbox\n",
      " Average Precision  (AP) @[ IoU=0.50:0.95 | area=   all | maxDets=100 ] = 0.709\n",
      " Average Precision  (AP) @[ IoU=0.50      | area=   all | maxDets=100 ] = 0.938\n",
      " Average Precision  (AP) @[ IoU=0.75      | area=   all | maxDets=100 ] = 0.862\n",
      " Average Precision  (AP) @[ IoU=0.50:0.95 | area= small | maxDets=100 ] = 0.627\n",
      " Average Precision  (AP) @[ IoU=0.50:0.95 | area=medium | maxDets=100 ] = 0.826\n",
      " Average Precision  (AP) @[ IoU=0.50:0.95 | area= large | maxDets=100 ] = 0.855\n",
      " Average Recall     (AR) @[ IoU=0.50:0.95 | area=   all | maxDets=  1 ] = 0.390\n",
      " Average Recall     (AR) @[ IoU=0.50:0.95 | area=   all | maxDets= 10 ] = 0.733\n",
      " Average Recall     (AR) @[ IoU=0.50:0.95 | area=   all | maxDets=100 ] = 0.770\n",
      " Average Recall     (AR) @[ IoU=0.50:0.95 | area= small | maxDets=100 ] = 0.706\n",
      " Average Recall     (AR) @[ IoU=0.50:0.95 | area=medium | maxDets=100 ] = 0.860\n",
      " Average Recall     (AR) @[ IoU=0.50:0.95 | area= large | maxDets=100 ] = 0.881\n",
      "Epoch: [7]  [  0/171]  eta: 0:39:51  lr: 0.001031  loss: 0.1463 (0.1463)  loss_classifier: 0.0460 (0.0460)  loss_box_reg: 0.0982 (0.0982)  loss_objectness: 0.0002 (0.0002)  loss_rpn_box_reg: 0.0018 (0.0018)  time: 13.9855  data: 0.0362\n",
      "Epoch: [7]  [ 10/171]  eta: 0:32:42  lr: 0.001031  loss: 0.1295 (0.1214)  loss_classifier: 0.0449 (0.0428)  loss_box_reg: 0.0744 (0.0759)  loss_objectness: 0.0010 (0.0009)  loss_rpn_box_reg: 0.0013 (0.0018)  time: 12.1879  data: 0.0356\n",
      "Epoch: [7]  [ 20/171]  eta: 0:32:36  lr: 0.001031  loss: 0.1235 (0.1254)  loss_classifier: 0.0396 (0.0434)  loss_box_reg: 0.0731 (0.0762)  loss_objectness: 0.0010 (0.0010)  loss_rpn_box_reg: 0.0016 (0.0048)  time: 12.9089  data: 0.0345\n",
      "Epoch: [7]  [ 30/171]  eta: 0:29:03  lr: 0.001031  loss: 0.1249 (0.1311)  loss_classifier: 0.0426 (0.0454)  loss_box_reg: 0.0782 (0.0805)  loss_objectness: 0.0009 (0.0011)  loss_rpn_box_reg: 0.0022 (0.0041)  time: 12.4659  data: 0.0350\n",
      "Epoch: [7]  [ 40/171]  eta: 0:27:10  lr: 0.001031  loss: 0.1282 (0.1340)  loss_classifier: 0.0422 (0.0444)  loss_box_reg: 0.0873 (0.0844)  loss_objectness: 0.0009 (0.0012)  loss_rpn_box_reg: 0.0022 (0.0040)  time: 11.9129  data: 0.0357\n",
      "Epoch: [7]  [ 50/171]  eta: 0:25:42  lr: 0.001031  loss: 0.1552 (0.1409)  loss_classifier: 0.0495 (0.0478)  loss_box_reg: 0.0915 (0.0879)  loss_objectness: 0.0005 (0.0012)  loss_rpn_box_reg: 0.0016 (0.0040)  time: 13.3414  data: 0.0349\n",
      "Epoch: [7]  [ 60/171]  eta: 0:23:25  lr: 0.001031  loss: 0.1762 (0.1449)  loss_classifier: 0.0557 (0.0485)  loss_box_reg: 0.1013 (0.0907)  loss_objectness: 0.0008 (0.0014)  loss_rpn_box_reg: 0.0025 (0.0043)  time: 13.0994  data: 0.0365\n",
      "Epoch: [7]  [ 70/171]  eta: 0:21:17  lr: 0.001031  loss: 0.1414 (0.1450)  loss_classifier: 0.0471 (0.0485)  loss_box_reg: 0.0953 (0.0911)  loss_objectness: 0.0005 (0.0013)  loss_rpn_box_reg: 0.0018 (0.0042)  time: 12.3750  data: 0.0362\n",
      "Epoch: [7]  [ 80/171]  eta: 0:19:21  lr: 0.001031  loss: 0.1394 (0.1474)  loss_classifier: 0.0440 (0.0489)  loss_box_reg: 0.0932 (0.0930)  loss_objectness: 0.0005 (0.0013)  loss_rpn_box_reg: 0.0019 (0.0041)  time: 13.0800  data: 0.0360\n",
      "Epoch: [7]  [ 90/171]  eta: 0:17:22  lr: 0.001031  loss: 0.1408 (0.1470)  loss_classifier: 0.0440 (0.0492)  loss_box_reg: 0.0883 (0.0925)  loss_objectness: 0.0006 (0.0013)  loss_rpn_box_reg: 0.0023 (0.0040)  time: 13.6491  data: 0.0357\n",
      "Epoch: [7]  [100/171]  eta: 0:15:04  lr: 0.001031  loss: 0.1247 (0.1466)  loss_classifier: 0.0501 (0.0494)  loss_box_reg: 0.0790 (0.0920)  loss_objectness: 0.0007 (0.0013)  loss_rpn_box_reg: 0.0018 (0.0039)  time: 12.6304  data: 0.0353\n",
      "Epoch: [7]  [110/171]  eta: 0:12:53  lr: 0.001031  loss: 0.1471 (0.1496)  loss_classifier: 0.0501 (0.0499)  loss_box_reg: 0.0940 (0.0940)  loss_objectness: 0.0012 (0.0015)  loss_rpn_box_reg: 0.0021 (0.0042)  time: 11.8161  data: 0.0370\n",
      "Epoch: [7]  [120/171]  eta: 0:10:40  lr: 0.001031  loss: 0.1689 (0.1510)  loss_classifier: 0.0532 (0.0503)  loss_box_reg: 0.1178 (0.0950)  loss_objectness: 0.0012 (0.0015)  loss_rpn_box_reg: 0.0036 (0.0041)  time: 11.6783  data: 0.0377\n",
      "Epoch: [7]  [130/171]  eta: 0:08:32  lr: 0.001031  loss: 0.1528 (0.1490)  loss_classifier: 0.0393 (0.0496)  loss_box_reg: 0.1053 (0.0939)  loss_objectness: 0.0005 (0.0014)  loss_rpn_box_reg: 0.0026 (0.0040)  time: 11.5621  data: 0.0366\n",
      "Epoch: [7]  [140/171]  eta: 0:06:26  lr: 0.001031  loss: 0.1108 (0.1501)  loss_classifier: 0.0350 (0.0500)  loss_box_reg: 0.0745 (0.0942)  loss_objectness: 0.0004 (0.0016)  loss_rpn_box_reg: 0.0026 (0.0043)  time: 11.7913  data: 0.0362\n",
      "Epoch: [7]  [150/171]  eta: 0:04:22  lr: 0.001031  loss: 0.1261 (0.1501)  loss_classifier: 0.0370 (0.0500)  loss_box_reg: 0.0747 (0.0943)  loss_objectness: 0.0007 (0.0016)  loss_rpn_box_reg: 0.0031 (0.0042)  time: 12.3303  data: 0.0363\n",
      "Epoch: [7]  [160/171]  eta: 0:02:17  lr: 0.001031  loss: 0.1470 (0.1501)  loss_classifier: 0.0488 (0.0501)  loss_box_reg: 0.0883 (0.0942)  loss_objectness: 0.0008 (0.0017)  loss_rpn_box_reg: 0.0027 (0.0041)  time: 12.9134  data: 0.0355\n",
      "Epoch: [7]  [170/171]  eta: 0:00:12  lr: 0.001031  loss: 0.1470 (0.1506)  loss_classifier: 0.0493 (0.0503)  loss_box_reg: 0.0831 (0.0943)  loss_objectness: 0.0009 (0.0017)  loss_rpn_box_reg: 0.0019 (0.0042)  time: 12.5171  data: 0.0360\n",
      "Epoch: [7] Total time: 0:35:35 (12.4867 s / it)\n"
     ]
    },
    {
     "name": "stderr",
     "output_type": "stream",
     "text": [
      "[W ParallelNative.cpp:229] Warning: Cannot set number of intraop threads after parallel work has started or after set_num_threads call when using native parallel backend (function set_num_threads)\n"
     ]
    },
    {
     "name": "stdout",
     "output_type": "stream",
     "text": [
      "creating index...\n",
      "index created!\n",
      "Test:  [  0/171]  eta: 0:02:00  model_time: 0.7010 (0.7010)  evaluator_time: 0.0007 (0.0007)  time: 0.7076  data: 0.0059\n",
      "Test:  [100/171]  eta: 0:00:52  model_time: 0.7431 (0.7294)  evaluator_time: 0.0007 (0.0012)  time: 0.7521  data: 0.0078\n",
      "Test:  [170/171]  eta: 0:00:00  model_time: 0.6956 (0.7278)  evaluator_time: 0.0007 (0.0011)  time: 0.7361  data: 0.0076\n",
      "Test: Total time: 0:02:05 (0.7368 s / it)\n",
      "Averaged stats: model_time: 0.6956 (0.7278)  evaluator_time: 0.0007 (0.0011)\n",
      "Accumulating evaluation results...\n",
      "DONE (t=0.03s).\n",
      "IoU metric: bbox\n",
      " Average Precision  (AP) @[ IoU=0.50:0.95 | area=   all | maxDets=100 ] = 0.722\n",
      " Average Precision  (AP) @[ IoU=0.50      | area=   all | maxDets=100 ] = 0.939\n",
      " Average Precision  (AP) @[ IoU=0.75      | area=   all | maxDets=100 ] = 0.868\n",
      " Average Precision  (AP) @[ IoU=0.50:0.95 | area= small | maxDets=100 ] = 0.636\n",
      " Average Precision  (AP) @[ IoU=0.50:0.95 | area=medium | maxDets=100 ] = 0.830\n",
      " Average Precision  (AP) @[ IoU=0.50:0.95 | area= large | maxDets=100 ] = 0.891\n",
      " Average Recall     (AR) @[ IoU=0.50:0.95 | area=   all | maxDets=  1 ] = 0.393\n",
      " Average Recall     (AR) @[ IoU=0.50:0.95 | area=   all | maxDets= 10 ] = 0.747\n",
      " Average Recall     (AR) @[ IoU=0.50:0.95 | area=   all | maxDets=100 ] = 0.784\n",
      " Average Recall     (AR) @[ IoU=0.50:0.95 | area= small | maxDets=100 ] = 0.720\n",
      " Average Recall     (AR) @[ IoU=0.50:0.95 | area=medium | maxDets=100 ] = 0.861\n",
      " Average Recall     (AR) @[ IoU=0.50:0.95 | area= large | maxDets=100 ] = 0.902\n",
      "Epoch: [8]  [  0/171]  eta: 0:39:15  lr: 0.000477  loss: 0.0833 (0.0833)  loss_classifier: 0.0283 (0.0283)  loss_box_reg: 0.0535 (0.0535)  loss_objectness: 0.0002 (0.0002)  loss_rpn_box_reg: 0.0012 (0.0012)  time: 13.7756  data: 0.0268\n",
      "Epoch: [8]  [ 10/171]  eta: 0:31:58  lr: 0.000477  loss: 0.1391 (0.1402)  loss_classifier: 0.0437 (0.0448)  loss_box_reg: 0.0916 (0.0913)  loss_objectness: 0.0003 (0.0009)  loss_rpn_box_reg: 0.0024 (0.0032)  time: 11.9187  data: 0.0364\n",
      "Epoch: [8]  [ 20/171]  eta: 0:31:35  lr: 0.000477  loss: 0.1391 (0.1443)  loss_classifier: 0.0437 (0.0433)  loss_box_reg: 0.0916 (0.0927)  loss_objectness: 0.0004 (0.0015)  loss_rpn_box_reg: 0.0024 (0.0068)  time: 12.4949  data: 0.0364\n",
      "Epoch: [8]  [ 30/171]  eta: 0:29:59  lr: 0.000477  loss: 0.1249 (0.1365)  loss_classifier: 0.0395 (0.0421)  loss_box_reg: 0.0832 (0.0876)  loss_objectness: 0.0010 (0.0014)  loss_rpn_box_reg: 0.0022 (0.0055)  time: 13.2257  data: 0.0349\n",
      "Epoch: [8]  [ 40/171]  eta: 0:28:11  lr: 0.000477  loss: 0.1257 (0.1399)  loss_classifier: 0.0409 (0.0449)  loss_box_reg: 0.0800 (0.0883)  loss_objectness: 0.0006 (0.0016)  loss_rpn_box_reg: 0.0022 (0.0050)  time: 13.2902  data: 0.0373\n",
      "Epoch: [8]  [ 50/171]  eta: 0:25:44  lr: 0.000477  loss: 0.1585 (0.1468)  loss_classifier: 0.0507 (0.0478)  loss_box_reg: 0.0942 (0.0920)  loss_objectness: 0.0006 (0.0018)  loss_rpn_box_reg: 0.0024 (0.0052)  time: 12.7606  data: 0.0393\n",
      "Epoch: [8]  [ 60/171]  eta: 0:23:17  lr: 0.000477  loss: 0.1316 (0.1420)  loss_classifier: 0.0522 (0.0474)  loss_box_reg: 0.0764 (0.0882)  loss_objectness: 0.0008 (0.0017)  loss_rpn_box_reg: 0.0018 (0.0047)  time: 11.9202  data: 0.0372\n",
      "Epoch: [8]  [ 70/171]  eta: 0:21:04  lr: 0.000477  loss: 0.1316 (0.1441)  loss_classifier: 0.0479 (0.0484)  loss_box_reg: 0.0805 (0.0894)  loss_objectness: 0.0008 (0.0017)  loss_rpn_box_reg: 0.0018 (0.0046)  time: 11.9001  data: 0.0358\n",
      "Epoch: [8]  [ 80/171]  eta: 0:19:00  lr: 0.000477  loss: 0.1531 (0.1460)  loss_classifier: 0.0483 (0.0483)  loss_box_reg: 0.0995 (0.0911)  loss_objectness: 0.0012 (0.0018)  loss_rpn_box_reg: 0.0040 (0.0048)  time: 12.3555  data: 0.0364\n",
      "Epoch: [8]  [ 90/171]  eta: 0:16:55  lr: 0.000477  loss: 0.1307 (0.1407)  loss_classifier: 0.0433 (0.0465)  loss_box_reg: 0.0820 (0.0880)  loss_objectness: 0.0009 (0.0017)  loss_rpn_box_reg: 0.0027 (0.0045)  time: 12.5891  data: 0.0353\n",
      "Epoch: [8]  [100/171]  eta: 0:14:45  lr: 0.000477  loss: 0.0991 (0.1381)  loss_classifier: 0.0333 (0.0457)  loss_box_reg: 0.0615 (0.0865)  loss_objectness: 0.0006 (0.0017)  loss_rpn_box_reg: 0.0015 (0.0043)  time: 12.2097  data: 0.0348\n",
      "Epoch: [8]  [110/171]  eta: 0:12:36  lr: 0.000477  loss: 0.1390 (0.1402)  loss_classifier: 0.0494 (0.0469)  loss_box_reg: 0.0851 (0.0873)  loss_objectness: 0.0007 (0.0017)  loss_rpn_box_reg: 0.0021 (0.0043)  time: 11.7896  data: 0.0369\n",
      "Epoch: [8]  [120/171]  eta: 0:10:33  lr: 0.000477  loss: 0.1433 (0.1394)  loss_classifier: 0.0495 (0.0465)  loss_box_reg: 0.0894 (0.0870)  loss_objectness: 0.0008 (0.0017)  loss_rpn_box_reg: 0.0024 (0.0042)  time: 12.2268  data: 0.0359\n",
      "Epoch: [8]  [130/171]  eta: 0:08:27  lr: 0.000477  loss: 0.1295 (0.1419)  loss_classifier: 0.0403 (0.0477)  loss_box_reg: 0.0850 (0.0883)  loss_objectness: 0.0006 (0.0017)  loss_rpn_box_reg: 0.0020 (0.0042)  time: 12.2826  data: 0.0345\n",
      "Epoch: [8]  [140/171]  eta: 0:06:22  lr: 0.000477  loss: 0.1416 (0.1414)  loss_classifier: 0.0403 (0.0476)  loss_box_reg: 0.0909 (0.0880)  loss_objectness: 0.0006 (0.0018)  loss_rpn_box_reg: 0.0020 (0.0041)  time: 11.8946  data: 0.0347\n",
      "Epoch: [8]  [150/171]  eta: 0:04:19  lr: 0.000477  loss: 0.1062 (0.1391)  loss_classifier: 0.0353 (0.0467)  loss_box_reg: 0.0696 (0.0865)  loss_objectness: 0.0007 (0.0018)  loss_rpn_box_reg: 0.0016 (0.0041)  time: 12.2692  data: 0.0352\n",
      "Epoch: [8]  [160/171]  eta: 0:02:17  lr: 0.000477  loss: 0.1201 (0.1404)  loss_classifier: 0.0428 (0.0473)  loss_box_reg: 0.0736 (0.0872)  loss_objectness: 0.0007 (0.0018)  loss_rpn_box_reg: 0.0022 (0.0041)  time: 13.2913  data: 0.0361\n",
      "Epoch: [8]  [170/171]  eta: 0:00:12  lr: 0.000477  loss: 0.1461 (0.1398)  loss_classifier: 0.0545 (0.0472)  loss_box_reg: 0.0862 (0.0869)  loss_objectness: 0.0005 (0.0017)  loss_rpn_box_reg: 0.0026 (0.0040)  time: 12.8805  data: 0.0352\n",
      "Epoch: [8] Total time: 0:35:25 (12.4273 s / it)\n"
     ]
    },
    {
     "name": "stderr",
     "output_type": "stream",
     "text": [
      "[W ParallelNative.cpp:229] Warning: Cannot set number of intraop threads after parallel work has started or after set_num_threads call when using native parallel backend (function set_num_threads)\n"
     ]
    },
    {
     "name": "stdout",
     "output_type": "stream",
     "text": [
      "creating index...\n",
      "index created!\n",
      "Test:  [  0/171]  eta: 0:02:02  model_time: 0.7082 (0.7082)  evaluator_time: 0.0007 (0.0007)  time: 0.7149  data: 0.0060\n",
      "Test:  [100/171]  eta: 0:00:51  model_time: 0.7370 (0.7172)  evaluator_time: 0.0007 (0.0012)  time: 0.7392  data: 0.0079\n",
      "Test:  [170/171]  eta: 0:00:00  model_time: 0.6806 (0.7149)  evaluator_time: 0.0007 (0.0010)  time: 0.7249  data: 0.0075\n",
      "Test: Total time: 0:02:03 (0.7239 s / it)\n",
      "Averaged stats: model_time: 0.6806 (0.7149)  evaluator_time: 0.0007 (0.0010)\n",
      "Accumulating evaluation results...\n",
      "DONE (t=0.03s).\n",
      "IoU metric: bbox\n",
      " Average Precision  (AP) @[ IoU=0.50:0.95 | area=   all | maxDets=100 ] = 0.746\n",
      " Average Precision  (AP) @[ IoU=0.50      | area=   all | maxDets=100 ] = 0.948\n",
      " Average Precision  (AP) @[ IoU=0.75      | area=   all | maxDets=100 ] = 0.879\n",
      " Average Precision  (AP) @[ IoU=0.50:0.95 | area= small | maxDets=100 ] = 0.667\n",
      " Average Precision  (AP) @[ IoU=0.50:0.95 | area=medium | maxDets=100 ] = 0.853\n",
      " Average Precision  (AP) @[ IoU=0.50:0.95 | area= large | maxDets=100 ] = 0.902\n",
      " Average Recall     (AR) @[ IoU=0.50:0.95 | area=   all | maxDets=  1 ] = 0.402\n",
      " Average Recall     (AR) @[ IoU=0.50:0.95 | area=   all | maxDets= 10 ] = 0.755\n",
      " Average Recall     (AR) @[ IoU=0.50:0.95 | area=   all | maxDets=100 ] = 0.796\n",
      " Average Recall     (AR) @[ IoU=0.50:0.95 | area= small | maxDets=100 ] = 0.729\n",
      " Average Recall     (AR) @[ IoU=0.50:0.95 | area=medium | maxDets=100 ] = 0.882\n",
      " Average Recall     (AR) @[ IoU=0.50:0.95 | area= large | maxDets=100 ] = 0.926\n",
      "Epoch: [9]  [  0/171]  eta: 0:38:58  lr: 0.000122  loss: 0.1126 (0.1126)  loss_classifier: 0.0481 (0.0481)  loss_box_reg: 0.0603 (0.0603)  loss_objectness: 0.0005 (0.0005)  loss_rpn_box_reg: 0.0038 (0.0038)  time: 13.6779  data: 0.0340\n",
      "Epoch: [9]  [ 10/171]  eta: 0:33:33  lr: 0.000122  loss: 0.1126 (0.1212)  loss_classifier: 0.0408 (0.0458)  loss_box_reg: 0.0603 (0.0706)  loss_objectness: 0.0005 (0.0021)  loss_rpn_box_reg: 0.0014 (0.0026)  time: 12.5081  data: 0.0338\n",
      "Epoch: [9]  [ 20/171]  eta: 0:30:15  lr: 0.000122  loss: 0.1369 (0.1492)  loss_classifier: 0.0444 (0.0525)  loss_box_reg: 0.0827 (0.0880)  loss_objectness: 0.0010 (0.0021)  loss_rpn_box_reg: 0.0015 (0.0066)  time: 11.9400  data: 0.0361\n",
      "Epoch: [9]  [ 30/171]  eta: 0:27:14  lr: 0.000122  loss: 0.1377 (0.1458)  loss_classifier: 0.0481 (0.0502)  loss_box_reg: 0.0939 (0.0874)  loss_objectness: 0.0009 (0.0020)  loss_rpn_box_reg: 0.0025 (0.0061)  time: 11.0872  data: 0.0369\n",
      "Epoch: [9]  [ 40/171]  eta: 0:25:40  lr: 0.000122  loss: 0.1305 (0.1413)  loss_classifier: 0.0390 (0.0497)  loss_box_reg: 0.0822 (0.0847)  loss_objectness: 0.0007 (0.0019)  loss_rpn_box_reg: 0.0024 (0.0051)  time: 11.4875  data: 0.0357\n",
      "Epoch: [9]  [ 50/171]  eta: 0:23:51  lr: 0.000122  loss: 0.1311 (0.1450)  loss_classifier: 0.0448 (0.0505)  loss_box_reg: 0.0808 (0.0875)  loss_objectness: 0.0009 (0.0020)  loss_rpn_box_reg: 0.0023 (0.0051)  time: 12.2032  data: 0.0360\n",
      "Epoch: [9]  [ 60/171]  eta: 0:22:04  lr: 0.000122  loss: 0.1374 (0.1491)  loss_classifier: 0.0505 (0.0519)  loss_box_reg: 0.0951 (0.0904)  loss_objectness: 0.0010 (0.0018)  loss_rpn_box_reg: 0.0029 (0.0049)  time: 12.2716  data: 0.0367\n",
      "Epoch: [9]  [ 70/171]  eta: 0:20:03  lr: 0.000122  loss: 0.1153 (0.1401)  loss_classifier: 0.0412 (0.0488)  loss_box_reg: 0.0704 (0.0852)  loss_objectness: 0.0009 (0.0017)  loss_rpn_box_reg: 0.0018 (0.0045)  time: 12.1186  data: 0.0349\n",
      "Epoch: [9]  [ 80/171]  eta: 0:18:07  lr: 0.000122  loss: 0.0720 (0.1354)  loss_classifier: 0.0251 (0.0472)  loss_box_reg: 0.0483 (0.0824)  loss_objectness: 0.0003 (0.0016)  loss_rpn_box_reg: 0.0009 (0.0042)  time: 12.0041  data: 0.0341\n",
      "Epoch: [9]  [ 90/171]  eta: 0:16:15  lr: 0.000122  loss: 0.1241 (0.1358)  loss_classifier: 0.0394 (0.0472)  loss_box_reg: 0.0740 (0.0830)  loss_objectness: 0.0003 (0.0015)  loss_rpn_box_reg: 0.0019 (0.0041)  time: 12.5150  data: 0.0350\n",
      "Epoch: [9]  [100/171]  eta: 0:14:15  lr: 0.000122  loss: 0.1355 (0.1357)  loss_classifier: 0.0442 (0.0471)  loss_box_reg: 0.0820 (0.0832)  loss_objectness: 0.0004 (0.0014)  loss_rpn_box_reg: 0.0022 (0.0039)  time: 12.4323  data: 0.0354\n",
      "Epoch: [9]  [110/171]  eta: 0:12:16  lr: 0.000122  loss: 0.1194 (0.1355)  loss_classifier: 0.0433 (0.0468)  loss_box_reg: 0.0759 (0.0832)  loss_objectness: 0.0006 (0.0015)  loss_rpn_box_reg: 0.0022 (0.0040)  time: 12.1801  data: 0.0369\n",
      "Epoch: [9]  [120/171]  eta: 0:10:18  lr: 0.000122  loss: 0.1194 (0.1336)  loss_classifier: 0.0418 (0.0465)  loss_box_reg: 0.0729 (0.0820)  loss_objectness: 0.0004 (0.0014)  loss_rpn_box_reg: 0.0021 (0.0038)  time: 12.5057  data: 0.0360\n",
      "Epoch: [9]  [130/171]  eta: 0:08:15  lr: 0.000122  loss: 0.1227 (0.1333)  loss_classifier: 0.0374 (0.0464)  loss_box_reg: 0.0719 (0.0816)  loss_objectness: 0.0004 (0.0015)  loss_rpn_box_reg: 0.0015 (0.0039)  time: 12.2552  data: 0.0350\n",
      "Epoch: [9]  [140/171]  eta: 0:06:14  lr: 0.000122  loss: 0.1272 (0.1342)  loss_classifier: 0.0410 (0.0468)  loss_box_reg: 0.0785 (0.0819)  loss_objectness: 0.0009 (0.0015)  loss_rpn_box_reg: 0.0019 (0.0039)  time: 11.7371  data: 0.0354\n",
      "Epoch: [9]  [150/171]  eta: 0:04:13  lr: 0.000122  loss: 0.1226 (0.1336)  loss_classifier: 0.0401 (0.0468)  loss_box_reg: 0.0724 (0.0815)  loss_objectness: 0.0007 (0.0015)  loss_rpn_box_reg: 0.0019 (0.0038)  time: 11.8121  data: 0.0347\n",
      "Epoch: [9]  [160/171]  eta: 0:02:12  lr: 0.000122  loss: 0.1163 (0.1356)  loss_classifier: 0.0352 (0.0471)  loss_box_reg: 0.0712 (0.0828)  loss_objectness: 0.0007 (0.0017)  loss_rpn_box_reg: 0.0016 (0.0040)  time: 11.9198  data: 0.0360\n",
      "Epoch: [9]  [170/171]  eta: 0:00:11  lr: 0.000122  loss: 0.0991 (0.1345)  loss_classifier: 0.0311 (0.0466)  loss_box_reg: 0.0734 (0.0824)  loss_objectness: 0.0008 (0.0017)  loss_rpn_box_reg: 0.0016 (0.0039)  time: 11.3687  data: 0.0353\n",
      "Epoch: [9] Total time: 0:34:08 (11.9790 s / it)\n"
     ]
    },
    {
     "name": "stderr",
     "output_type": "stream",
     "text": [
      "[W ParallelNative.cpp:229] Warning: Cannot set number of intraop threads after parallel work has started or after set_num_threads call when using native parallel backend (function set_num_threads)\n"
     ]
    },
    {
     "name": "stdout",
     "output_type": "stream",
     "text": [
      "creating index...\n",
      "index created!\n",
      "Test:  [  0/171]  eta: 0:02:03  model_time: 0.7144 (0.7144)  evaluator_time: 0.0009 (0.0009)  time: 0.7216  data: 0.0063\n",
      "Test:  [100/171]  eta: 0:00:52  model_time: 0.7609 (0.7370)  evaluator_time: 0.0007 (0.0012)  time: 0.7636  data: 0.0079\n",
      "Test:  [170/171]  eta: 0:00:00  model_time: 0.7124 (0.7385)  evaluator_time: 0.0007 (0.0011)  time: 0.7519  data: 0.0075\n",
      "Test: Total time: 0:02:07 (0.7479 s / it)\n",
      "Averaged stats: model_time: 0.7124 (0.7385)  evaluator_time: 0.0007 (0.0011)\n",
      "Accumulating evaluation results...\n",
      "DONE (t=0.03s).\n",
      "IoU metric: bbox\n",
      " Average Precision  (AP) @[ IoU=0.50:0.95 | area=   all | maxDets=100 ] = 0.747\n",
      " Average Precision  (AP) @[ IoU=0.50      | area=   all | maxDets=100 ] = 0.950\n",
      " Average Precision  (AP) @[ IoU=0.75      | area=   all | maxDets=100 ] = 0.880\n",
      " Average Precision  (AP) @[ IoU=0.50:0.95 | area= small | maxDets=100 ] = 0.668\n",
      " Average Precision  (AP) @[ IoU=0.50:0.95 | area=medium | maxDets=100 ] = 0.854\n",
      " Average Precision  (AP) @[ IoU=0.50:0.95 | area= large | maxDets=100 ] = 0.905\n",
      " Average Recall     (AR) @[ IoU=0.50:0.95 | area=   all | maxDets=  1 ] = 0.403\n",
      " Average Recall     (AR) @[ IoU=0.50:0.95 | area=   all | maxDets= 10 ] = 0.760\n",
      " Average Recall     (AR) @[ IoU=0.50:0.95 | area=   all | maxDets=100 ] = 0.798\n",
      " Average Recall     (AR) @[ IoU=0.50:0.95 | area= small | maxDets=100 ] = 0.730\n",
      " Average Recall     (AR) @[ IoU=0.50:0.95 | area=medium | maxDets=100 ] = 0.885\n",
      " Average Recall     (AR) @[ IoU=0.50:0.95 | area= large | maxDets=100 ] = 0.926\n"
     ]
    }
   ],
   "source": [
    "train_model()"
   ]
  }
 ],
 "metadata": {
  "kernelspec": {
   "display_name": "ml_proj_arm",
   "language": "python",
   "name": "python3"
  },
  "language_info": {
   "codemirror_mode": {
    "name": "ipython",
    "version": 3
   },
   "file_extension": ".py",
   "mimetype": "text/x-python",
   "name": "python",
   "nbconvert_exporter": "python",
   "pygments_lexer": "ipython3",
   "version": "3.9.16"
  },
  "orig_nbformat": 4,
  "vscode": {
   "interpreter": {
    "hash": "0569c7441eb2a172b90152ed7364590c68b77b09d9b73c2f2ea5f761d02ce4ae"
   }
  }
 },
 "nbformat": 4,
 "nbformat_minor": 2
}
