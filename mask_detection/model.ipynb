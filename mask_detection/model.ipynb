{
 "cells": [
  {
   "cell_type": "markdown",
   "metadata": {},
   "source": [
    "[Reference](https://www.kaggle.com/code/benihime91/pytorch-fasterrcnn)"
   ]
  },
  {
   "cell_type": "markdown",
   "metadata": {},
   "source": [
    "### Imports"
   ]
  },
  {
   "cell_type": "code",
   "execution_count": 1,
   "metadata": {},
   "outputs": [],
   "source": [
    "import os\n",
    "import numpy as np\n",
    "import pandas as pd\n",
    "from PIL import Image\n",
    "\n",
    "# Sk learn\n",
    "from sklearn.model_selection import train_test_split\n",
    "\n",
    "# PyTorch\n",
    "import torch\n",
    "from torch.utils.data import Dataset, DataLoader\n",
    "import torchvision\n",
    "from torchvision import transforms, datasets, models\n",
    "from torchvision.models.detection.faster_rcnn import FastRCNNPredictor\n",
    "from torchvision.models.detection.mask_rcnn import MaskRCNNPredictor\n",
    "\n",
    "# from torch import utils\n"
   ]
  },
  {
   "cell_type": "code",
   "execution_count": 2,
   "metadata": {},
   "outputs": [
    {
     "data": {
      "text/plain": [
       "853"
      ]
     },
     "execution_count": 2,
     "metadata": {},
     "output_type": "execute_result"
    }
   ],
   "source": [
    "# Count the total number of images\n",
    "\n",
    "img_list = list(sorted(os.listdir('./data/images/')))\n",
    "len(img_list)"
   ]
  },
  {
   "cell_type": "markdown",
   "metadata": {},
   "source": [
    "#### Split the data"
   ]
  },
  {
   "cell_type": "code",
   "execution_count": 3,
   "metadata": {},
   "outputs": [
    {
     "name": "stdout",
     "output_type": "stream",
     "text": [
      "No. of training images: 682\n",
      "No. of test images: 171\n"
     ]
    }
   ],
   "source": [
    "train_img, test_img = train_test_split(img_list, test_size = 0.2, random_state=42)\n",
    "print(f\"No. of training images: {len(train_img)}\")\n",
    "print(f\"No. of test images: {len(test_img)}\")"
   ]
  },
  {
   "cell_type": "markdown",
   "metadata": {},
   "source": [
    "### DataSet Class"
   ]
  },
  {
   "cell_type": "code",
   "execution_count": 7,
   "metadata": {},
   "outputs": [],
   "source": [
    "from bs4 import BeautifulSoup\n",
    "from torchvision import transforms as T\n",
    "\n",
    "def collate_fn(batch):\n",
    "    data_list, label_list = [], []\n",
    "    for _data, _label in batch:\n",
    "        data_list.append(_data)\n",
    "        label_list.append(_label)\n",
    "    return torch.Tensor(data_list), torch.LongTensor(label_list)\n",
    "\n",
    "\n",
    "def generate_box(obj):\n",
    "    xmin = int(obj.find('xmin').text)\n",
    "    ymin = int(obj.find('ymin').text)\n",
    "    xmax = int(obj.find('xmax').text)\n",
    "    ymax = int(obj.find('ymax').text)\n",
    "    return [xmin, ymin, xmax, ymax]\n",
    "\n",
    "def generate_labels(obj):\n",
    "    if obj.find('name').text == \"with_mask\":\n",
    "        return 1\n",
    "    elif obj.find('name').text == \"mask_weared_incorrect\":\n",
    "        return 2\n",
    "    elif obj.find('name').text == \"without_mask\":\n",
    "        return 3\n",
    "    return 0\n",
    "\n",
    "def get_transform():\n",
    "    transforms = []\n",
    "    transforms.append(T.PILToTensor())\n",
    "    transforms.append(T.ConvertImageDtype(torch.float),)\n",
    "    return T.Compose(transforms)\n",
    "\n",
    "\n",
    "class MaskDataset(Dataset):\n",
    "    def __init__(self, img_dir, annot_dir, img_list, transforms):\n",
    "        self.transforms = transforms\n",
    "        self.imgs = img_list\n",
    "        self.img_dir = img_dir\n",
    "        self.annot_dir = annot_dir\n",
    "\n",
    "    def __len__(self):\n",
    "        return len(self.imgs)\n",
    "\n",
    "    def __getitem__(self, idx):\n",
    "        f_image = 'maksssksksss'+ str(idx) + '.png'\n",
    "        f_label = 'maksssksksss'+ str(idx) + '.xml'\n",
    "        \n",
    "        img_path = os.path.join(self.img_dir, f_image)\n",
    "        label_path = os.path.join(self.annot_dir, f_label)\n",
    "        \n",
    "        # Open the image\n",
    "        img = Image.open(img_path).convert(\"RGB\")\n",
    "        \n",
    "        target = self.__generate_target(idx, label_path)\n",
    "        \n",
    "        if self.transforms is not None:\n",
    "            # img, target = self.transforms(img, target)\n",
    "            img = self.transforms(img)\n",
    "\n",
    "        return img, target\n",
    "    \n",
    "    \n",
    "    @staticmethod\n",
    "    def __generate_target(img_id, file):\n",
    "        with open(file, 'r') as f:\n",
    "            data = f.read()\n",
    "            soup = BeautifulSoup(data, 'xml')\n",
    "            objects = soup.find_all('object')\n",
    "            \n",
    "            num_objects = len(objects)\n",
    "            \n",
    "            # Bounding boxes\n",
    "            boxes = []\n",
    "            labels = []\n",
    "            \n",
    "            for i in objects:\n",
    "                boxes.append(generate_box(i))\n",
    "                labels.append(generate_labels(i))\n",
    "        \n",
    "            # Convert to tensor\n",
    "            boxes = torch.as_tensor(boxes, dtype=torch.float32)\n",
    "            labels = torch.as_tensor(labels, dtype=torch.int64)\n",
    "            \n",
    "            img_id = torch.tensor(img_id)\n",
    "            \n",
    "            # Area is width and height\n",
    "            area = (boxes[:, 3] - boxes[:, 1]) * (boxes[:, 2] - boxes[:, 0])\n",
    "            iscrowd = torch.zeros((num_objects,), dtype=torch.int64)\n",
    "            \n",
    "            # Return a dictionary format\n",
    "            target = {}\n",
    "            target['boxes'] = boxes\n",
    "            target['labels'] = labels\n",
    "            target['image_id'] = img_id\n",
    "            target['area'] = area\n",
    "            target['iscrowd'] = iscrowd\n",
    "            \n",
    "            return target"
   ]
  },
  {
   "cell_type": "markdown",
   "metadata": {},
   "source": [
    "### DataLoader Class"
   ]
  },
  {
   "cell_type": "code",
   "execution_count": 5,
   "metadata": {},
   "outputs": [],
   "source": [
    "train_dataset = MaskDataset(img_dir= './data/images/',\n",
    "                        annot_dir= './data/annotations/',\n",
    "                        img_list= train_img,\n",
    "                        transforms= get_transform())"
   ]
  },
  {
   "cell_type": "code",
   "execution_count": 27,
   "metadata": {},
   "outputs": [],
   "source": [
    "# train_dataset[3]"
   ]
  },
  {
   "cell_type": "code",
   "execution_count": 28,
   "metadata": {},
   "outputs": [],
   "source": [
    "# train_dataset[0][0].size()"
   ]
  },
  {
   "cell_type": "code",
   "execution_count": 29,
   "metadata": {},
   "outputs": [],
   "source": [
    "# train_dataset[1][0].size()"
   ]
  },
  {
   "cell_type": "code",
   "execution_count": null,
   "metadata": {},
   "outputs": [],
   "source": [
    "def collate_fn(batch):\n",
    "    return tuple(zip(*batch))\n",
    "\n"
   ]
  },
  {
   "cell_type": "code",
   "execution_count": 6,
   "metadata": {},
   "outputs": [],
   "source": [
    "train_loader = torch.utils.data.DataLoader(train_dataset, batch_size = 4, shuffle = True, num_workers = 2, collate_fn=collate_fn)\n"
   ]
  },
  {
   "cell_type": "code",
   "execution_count": 35,
   "metadata": {},
   "outputs": [],
   "source": [
    "test_dataset = MaskDataset(img_dir='./data/images/',\n",
    "                            annot_dir= './data/annotations/',\n",
    "                            img_list= test_img,\n",
    "                            transforms= get_transform())"
   ]
  },
  {
   "cell_type": "code",
   "execution_count": 34,
   "metadata": {},
   "outputs": [],
   "source": [
    "test_loader = torch.utils.data.DataLoader(test_dataset, batch_size = 1, shuffle = False, num_workers = 2, collate_fn = collate_fn)"
   ]
  },
  {
   "cell_type": "markdown",
   "metadata": {},
   "source": [
    "### Define Model"
   ]
  },
  {
   "cell_type": "code",
   "execution_count": 8,
   "metadata": {},
   "outputs": [],
   "source": [
    "from xmlrpc.client import Boolean\n",
    "\n",
    "\n",
    "# def model_instance_segmentation(num_classes = 0: int, pretrained = True: bool)-> None:\n",
    "\n",
    "def model_instance_segmentation(num_classes: int, pretrained: bool = True):\n",
    "    \n",
    "    # Load pre-trained model\n",
    "    model = torchvision.models.detection.fasterrcnn_resnet50_fpn(pretrained=pretrained)\n",
    "    \n",
    "    \n",
    "    # replace the classifier with a new one, that has\n",
    "    # num_classes which is user-defined\n",
    "    # get number of input features for the classifier\n",
    "    in_features = model.roi_heads.box_predictor.cls_score.in_features\n",
    "    # replace the pre-trained head with a new one\n",
    "    model.roi_heads.box_predictor = FastRCNNPredictor(in_features, num_classes)\n",
    "\n",
    "    return model"
   ]
  },
  {
   "cell_type": "markdown",
   "metadata": {},
   "source": [
    "### Create Training Loop"
   ]
  },
  {
   "cell_type": "code",
   "execution_count": 9,
   "metadata": {},
   "outputs": [],
   "source": [
    "def train_model(epochs = 10):\n",
    "    device = torch.device('cuda') if torch.cuda.is_available() else torch.device('cpu')\n",
    "    \n",
    "    num_classes = 4\n",
    "    \n",
    "    model = model_instance_segmentation(num_classes)\n",
    "    model.to(device)\n",
    "    \n",
    "    params = [p for p in model.parameters() if p.requires_grad]\n",
    "    optimizer = torch.optim.SGD(params, lr=0.005, momentum=0.9, weight_decay=0.005)\n",
    "    lr_scheduler = torch.optim.lr_scheduler.CosineAnnealingLR(optimizer, T_max=epochs)\n",
    "    \n",
    "    # Training loop\n",
    "    for epoch in range(epochs):\n",
    "        pass\n",
    "        "
   ]
  },
  {
   "cell_type": "markdown",
   "metadata": {},
   "source": []
  }
 ],
 "metadata": {
  "kernelspec": {
   "display_name": "ml_proj_arm",
   "language": "python",
   "name": "python3"
  },
  "language_info": {
   "codemirror_mode": {
    "name": "ipython",
    "version": 3
   },
   "file_extension": ".py",
   "mimetype": "text/x-python",
   "name": "python",
   "nbconvert_exporter": "python",
   "pygments_lexer": "ipython3",
   "version": "3.9.16"
  },
  "orig_nbformat": 4,
  "vscode": {
   "interpreter": {
    "hash": "0569c7441eb2a172b90152ed7364590c68b77b09d9b73c2f2ea5f761d02ce4ae"
   }
  }
 },
 "nbformat": 4,
 "nbformat_minor": 2
}
