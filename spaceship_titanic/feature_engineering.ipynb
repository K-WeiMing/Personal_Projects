{
 "cells": [
  {
   "cell_type": "markdown",
   "metadata": {},
   "source": [
    "### Imports"
   ]
  },
  {
   "cell_type": "code",
   "execution_count": 33,
   "metadata": {},
   "outputs": [],
   "source": [
    "import pandas as pd\n",
    "import numpy as np\n",
    "from typing import List\n",
    "\n",
    "\n",
    "# Sci-kit learn\n",
    "from sklearn.experimental import enable_iterative_imputer\n",
    "from sklearn.impute import IterativeImputer, SimpleImputer\n",
    "from sklearn.preprocessing import StandardScaler\n",
    "from sklearn.preprocessing import OrdinalEncoder\n",
    "from sklearn.feature_selection import mutual_info_classif\n",
    "from sklearn.model_selection import train_test_split\n",
    "\n",
    "# PyTorch\n",
    "import torch\n",
    "import torch.nn as nn\n",
    "import torch.functional as F\n",
    "from torch.utils.data import Dataset, DataLoader, random_split"
   ]
  },
  {
   "cell_type": "markdown",
   "metadata": {},
   "source": [
    "### Load in Data"
   ]
  },
  {
   "cell_type": "code",
   "execution_count": 2,
   "metadata": {},
   "outputs": [],
   "source": [
    "df_train = pd.read_csv('../data/spaceship_titanic/train.csv')"
   ]
  },
  {
   "cell_type": "code",
   "execution_count": 3,
   "metadata": {},
   "outputs": [],
   "source": [
    "# Remove the predicted label\n",
    "training_labels = df_train.pop('Transported')"
   ]
  },
  {
   "cell_type": "code",
   "execution_count": 4,
   "metadata": {},
   "outputs": [
    {
     "name": "stdout",
     "output_type": "stream",
     "text": [
      "<class 'pandas.core.frame.DataFrame'>\n",
      "RangeIndex: 8693 entries, 0 to 8692\n",
      "Data columns (total 13 columns):\n",
      " #   Column        Non-Null Count  Dtype  \n",
      "---  ------        --------------  -----  \n",
      " 0   PassengerId   8693 non-null   object \n",
      " 1   HomePlanet    8492 non-null   object \n",
      " 2   CryoSleep     8476 non-null   object \n",
      " 3   Cabin         8494 non-null   object \n",
      " 4   Destination   8511 non-null   object \n",
      " 5   Age           8514 non-null   float64\n",
      " 6   VIP           8490 non-null   object \n",
      " 7   RoomService   8512 non-null   float64\n",
      " 8   FoodCourt     8510 non-null   float64\n",
      " 9   ShoppingMall  8485 non-null   float64\n",
      " 10  Spa           8510 non-null   float64\n",
      " 11  VRDeck        8505 non-null   float64\n",
      " 12  Name          8493 non-null   object \n",
      "dtypes: float64(6), object(7)\n",
      "memory usage: 883.0+ KB\n"
     ]
    }
   ],
   "source": [
    "df_train.info()"
   ]
  },
  {
   "cell_type": "markdown",
   "metadata": {},
   "source": [
    "### Drop Columns"
   ]
  },
  {
   "cell_type": "code",
   "execution_count": 5,
   "metadata": {},
   "outputs": [],
   "source": [
    "Columns_List = List[str]\n",
    "def drop_columns(df: pd.DataFrame, cols: Columns_List):\n",
    "    df.drop(cols, axis = 1, inplace = True)\n",
    "    return df\n",
    "\n",
    "df_train = drop_columns(df_train, [\"Name\", \"Cabin\"])"
   ]
  },
  {
   "cell_type": "markdown",
   "metadata": {},
   "source": [
    "### Identify column types"
   ]
  },
  {
   "cell_type": "code",
   "execution_count": 6,
   "metadata": {},
   "outputs": [
    {
     "name": "stdout",
     "output_type": "stream",
     "text": [
      "Categorical columns: ['HomePlanet', 'CryoSleep', 'Destination', 'VIP']\n",
      "Continuous columns: ['Age', 'RoomService', 'FoodCourt', 'ShoppingMall', 'Spa', 'VRDeck']\n"
     ]
    }
   ],
   "source": [
    "cat_cols = df_train.select_dtypes(include=['object']).columns.to_list()\n",
    "cont_cols = df_train.select_dtypes(include=['float64']).columns.to_list()\n",
    "\n",
    "# Exclude passenger ID as categorical column\n",
    "cat_cols.pop(cat_cols.index('PassengerId'))\n",
    "\n",
    "print(f\"Categorical columns: {cat_cols}\")\n",
    "print(f\"Continuous columns: {cont_cols}\")"
   ]
  },
  {
   "cell_type": "markdown",
   "metadata": {},
   "source": [
    "### Encode categorical variables"
   ]
  },
  {
   "cell_type": "code",
   "execution_count": 7,
   "metadata": {},
   "outputs": [],
   "source": [
    "ord_encoder = OrdinalEncoder()\n",
    "df_train[cat_cols] = ord_encoder.fit_transform(df_train[cat_cols])"
   ]
  },
  {
   "cell_type": "markdown",
   "metadata": {},
   "source": [
    "### Feature Engineering"
   ]
  },
  {
   "cell_type": "markdown",
   "metadata": {},
   "source": [
    "### Impute Missing Values"
   ]
  },
  {
   "cell_type": "code",
   "execution_count": 8,
   "metadata": {},
   "outputs": [],
   "source": [
    "# Continuous variables\n",
    "\n",
    "iterative_imputer = IterativeImputer()\n",
    "\n",
    "df_train[cont_cols] = pd.DataFrame(iterative_imputer.fit_transform(df_train[cont_cols]), columns = cont_cols)"
   ]
  },
  {
   "cell_type": "code",
   "execution_count": 9,
   "metadata": {},
   "outputs": [],
   "source": [
    "# Categorical variables\n",
    "categorical_imputer = SimpleImputer(strategy='most_frequent')\n",
    "df_train[cat_cols] = pd.DataFrame(categorical_imputer.fit_transform(df_train[cat_cols]), columns = cat_cols)\n"
   ]
  },
  {
   "cell_type": "code",
   "execution_count": 10,
   "metadata": {},
   "outputs": [
    {
     "data": {
      "text/plain": [
       "0"
      ]
     },
     "execution_count": 10,
     "metadata": {},
     "output_type": "execute_result"
    }
   ],
   "source": [
    "# Sanity check on any remaining missing values\n",
    "df_train.isnull().sum().sum()"
   ]
  },
  {
   "cell_type": "markdown",
   "metadata": {},
   "source": [
    "#### Get group number"
   ]
  },
  {
   "cell_type": "code",
   "execution_count": 11,
   "metadata": {},
   "outputs": [],
   "source": [
    "# Group number is in passenger id (first half)\n",
    "df_train['group'] = df_train['PassengerId'].str.split('_').str[0]\n",
    "df_train['group'] = pd.to_numeric(df_train['group'])"
   ]
  },
  {
   "cell_type": "code",
   "execution_count": 12,
   "metadata": {},
   "outputs": [
    {
     "data": {
      "text/plain": [
       "0    1\n",
       "1    2\n",
       "2    3\n",
       "3    3\n",
       "4    4\n",
       "5    5\n",
       "6    6\n",
       "7    6\n",
       "8    7\n",
       "9    8\n",
       "Name: group, dtype: int64"
      ]
     },
     "execution_count": 12,
     "metadata": {},
     "output_type": "execute_result"
    }
   ],
   "source": [
    "# Sanity check\n",
    "df_train['group'][:10]"
   ]
  },
  {
   "cell_type": "code",
   "execution_count": 13,
   "metadata": {},
   "outputs": [],
   "source": [
    "# Remove passengerId as its not needed anymore\n",
    "df_train.drop('PassengerId', axis = 1, inplace=True)"
   ]
  },
  {
   "cell_type": "markdown",
   "metadata": {},
   "source": [
    "#### Noramlize values"
   ]
  },
  {
   "cell_type": "code",
   "execution_count": 14,
   "metadata": {},
   "outputs": [],
   "source": [
    "std_scaler = StandardScaler()\n",
    "normalized_cols = [col + '_norm' for col in cont_cols]\n",
    "df_train[normalized_cols] = std_scaler.fit_transform(df_train[cont_cols])"
   ]
  },
  {
   "cell_type": "code",
   "execution_count": 15,
   "metadata": {},
   "outputs": [
    {
     "data": {
      "text/html": [
       "<div>\n",
       "<style scoped>\n",
       "    .dataframe tbody tr th:only-of-type {\n",
       "        vertical-align: middle;\n",
       "    }\n",
       "\n",
       "    .dataframe tbody tr th {\n",
       "        vertical-align: top;\n",
       "    }\n",
       "\n",
       "    .dataframe thead th {\n",
       "        text-align: right;\n",
       "    }\n",
       "</style>\n",
       "<table border=\"1\" class=\"dataframe\">\n",
       "  <thead>\n",
       "    <tr style=\"text-align: right;\">\n",
       "      <th></th>\n",
       "      <th>Age_norm</th>\n",
       "      <th>RoomService_norm</th>\n",
       "      <th>FoodCourt_norm</th>\n",
       "      <th>ShoppingMall_norm</th>\n",
       "      <th>Spa_norm</th>\n",
       "      <th>VRDeck_norm</th>\n",
       "    </tr>\n",
       "  </thead>\n",
       "  <tbody>\n",
       "    <tr>\n",
       "      <th>0</th>\n",
       "      <td>0.709373</td>\n",
       "      <td>-0.340420</td>\n",
       "      <td>-0.286919</td>\n",
       "      <td>-0.290836</td>\n",
       "      <td>-0.276256</td>\n",
       "      <td>-0.268140</td>\n",
       "    </tr>\n",
       "    <tr>\n",
       "      <th>1</th>\n",
       "      <td>-0.336374</td>\n",
       "      <td>-0.175210</td>\n",
       "      <td>-0.281279</td>\n",
       "      <td>-0.248989</td>\n",
       "      <td>0.211620</td>\n",
       "      <td>-0.229322</td>\n",
       "    </tr>\n",
       "    <tr>\n",
       "      <th>2</th>\n",
       "      <td>2.033985</td>\n",
       "      <td>-0.275245</td>\n",
       "      <td>1.954387</td>\n",
       "      <td>-0.290836</td>\n",
       "      <td>5.691115</td>\n",
       "      <td>-0.224911</td>\n",
       "    </tr>\n",
       "    <tr>\n",
       "      <th>3</th>\n",
       "      <td>0.291074</td>\n",
       "      <td>-0.340420</td>\n",
       "      <td>0.517218</td>\n",
       "      <td>0.330181</td>\n",
       "      <td>2.682103</td>\n",
       "      <td>-0.097871</td>\n",
       "    </tr>\n",
       "    <tr>\n",
       "      <th>4</th>\n",
       "      <td>-0.894105</td>\n",
       "      <td>0.118835</td>\n",
       "      <td>-0.243046</td>\n",
       "      <td>-0.038077</td>\n",
       "      <td>0.225839</td>\n",
       "      <td>-0.266375</td>\n",
       "    </tr>\n",
       "  </tbody>\n",
       "</table>\n",
       "</div>"
      ],
      "text/plain": [
       "   Age_norm  RoomService_norm  FoodCourt_norm  ShoppingMall_norm  Spa_norm  \\\n",
       "0  0.709373         -0.340420       -0.286919          -0.290836 -0.276256   \n",
       "1 -0.336374         -0.175210       -0.281279          -0.248989  0.211620   \n",
       "2  2.033985         -0.275245        1.954387          -0.290836  5.691115   \n",
       "3  0.291074         -0.340420        0.517218           0.330181  2.682103   \n",
       "4 -0.894105          0.118835       -0.243046          -0.038077  0.225839   \n",
       "\n",
       "   VRDeck_norm  \n",
       "0    -0.268140  \n",
       "1    -0.229322  \n",
       "2    -0.224911  \n",
       "3    -0.097871  \n",
       "4    -0.266375  "
      ]
     },
     "execution_count": 15,
     "metadata": {},
     "output_type": "execute_result"
    }
   ],
   "source": [
    "# Sanity check on normalized columns\n",
    "df_train[normalized_cols].head()"
   ]
  },
  {
   "cell_type": "markdown",
   "metadata": {},
   "source": [
    "#### Compute Feature Importance"
   ]
  },
  {
   "cell_type": "code",
   "execution_count": 16,
   "metadata": {},
   "outputs": [
    {
     "data": {
      "text/html": [
       "<div>\n",
       "<style scoped>\n",
       "    .dataframe tbody tr th:only-of-type {\n",
       "        vertical-align: middle;\n",
       "    }\n",
       "\n",
       "    .dataframe tbody tr th {\n",
       "        vertical-align: top;\n",
       "    }\n",
       "\n",
       "    .dataframe thead th {\n",
       "        text-align: right;\n",
       "    }\n",
       "</style>\n",
       "<table border=\"1\" class=\"dataframe\">\n",
       "  <thead>\n",
       "    <tr style=\"text-align: right;\">\n",
       "      <th></th>\n",
       "      <th>HomePlanet</th>\n",
       "      <th>CryoSleep</th>\n",
       "      <th>Destination</th>\n",
       "      <th>Age</th>\n",
       "      <th>VIP</th>\n",
       "      <th>RoomService</th>\n",
       "      <th>FoodCourt</th>\n",
       "      <th>ShoppingMall</th>\n",
       "      <th>Spa</th>\n",
       "      <th>VRDeck</th>\n",
       "      <th>group</th>\n",
       "      <th>Age_norm</th>\n",
       "      <th>RoomService_norm</th>\n",
       "      <th>FoodCourt_norm</th>\n",
       "      <th>ShoppingMall_norm</th>\n",
       "      <th>Spa_norm</th>\n",
       "      <th>VRDeck_norm</th>\n",
       "    </tr>\n",
       "  </thead>\n",
       "  <tbody>\n",
       "    <tr>\n",
       "      <th>0</th>\n",
       "      <td>1.0</td>\n",
       "      <td>0.0</td>\n",
       "      <td>2.0</td>\n",
       "      <td>39.0</td>\n",
       "      <td>0.0</td>\n",
       "      <td>0.0</td>\n",
       "      <td>0.0</td>\n",
       "      <td>0.0</td>\n",
       "      <td>0.0</td>\n",
       "      <td>0.0</td>\n",
       "      <td>1</td>\n",
       "      <td>0.709373</td>\n",
       "      <td>-0.340420</td>\n",
       "      <td>-0.286919</td>\n",
       "      <td>-0.290836</td>\n",
       "      <td>-0.276256</td>\n",
       "      <td>-0.268140</td>\n",
       "    </tr>\n",
       "    <tr>\n",
       "      <th>1</th>\n",
       "      <td>0.0</td>\n",
       "      <td>0.0</td>\n",
       "      <td>2.0</td>\n",
       "      <td>24.0</td>\n",
       "      <td>0.0</td>\n",
       "      <td>109.0</td>\n",
       "      <td>9.0</td>\n",
       "      <td>25.0</td>\n",
       "      <td>549.0</td>\n",
       "      <td>44.0</td>\n",
       "      <td>2</td>\n",
       "      <td>-0.336374</td>\n",
       "      <td>-0.175210</td>\n",
       "      <td>-0.281279</td>\n",
       "      <td>-0.248989</td>\n",
       "      <td>0.211620</td>\n",
       "      <td>-0.229322</td>\n",
       "    </tr>\n",
       "    <tr>\n",
       "      <th>2</th>\n",
       "      <td>1.0</td>\n",
       "      <td>0.0</td>\n",
       "      <td>2.0</td>\n",
       "      <td>58.0</td>\n",
       "      <td>1.0</td>\n",
       "      <td>43.0</td>\n",
       "      <td>3576.0</td>\n",
       "      <td>0.0</td>\n",
       "      <td>6715.0</td>\n",
       "      <td>49.0</td>\n",
       "      <td>3</td>\n",
       "      <td>2.033985</td>\n",
       "      <td>-0.275245</td>\n",
       "      <td>1.954387</td>\n",
       "      <td>-0.290836</td>\n",
       "      <td>5.691115</td>\n",
       "      <td>-0.224911</td>\n",
       "    </tr>\n",
       "    <tr>\n",
       "      <th>3</th>\n",
       "      <td>1.0</td>\n",
       "      <td>0.0</td>\n",
       "      <td>2.0</td>\n",
       "      <td>33.0</td>\n",
       "      <td>0.0</td>\n",
       "      <td>0.0</td>\n",
       "      <td>1283.0</td>\n",
       "      <td>371.0</td>\n",
       "      <td>3329.0</td>\n",
       "      <td>193.0</td>\n",
       "      <td>3</td>\n",
       "      <td>0.291074</td>\n",
       "      <td>-0.340420</td>\n",
       "      <td>0.517218</td>\n",
       "      <td>0.330181</td>\n",
       "      <td>2.682103</td>\n",
       "      <td>-0.097871</td>\n",
       "    </tr>\n",
       "    <tr>\n",
       "      <th>4</th>\n",
       "      <td>0.0</td>\n",
       "      <td>0.0</td>\n",
       "      <td>2.0</td>\n",
       "      <td>16.0</td>\n",
       "      <td>0.0</td>\n",
       "      <td>303.0</td>\n",
       "      <td>70.0</td>\n",
       "      <td>151.0</td>\n",
       "      <td>565.0</td>\n",
       "      <td>2.0</td>\n",
       "      <td>4</td>\n",
       "      <td>-0.894105</td>\n",
       "      <td>0.118835</td>\n",
       "      <td>-0.243046</td>\n",
       "      <td>-0.038077</td>\n",
       "      <td>0.225839</td>\n",
       "      <td>-0.266375</td>\n",
       "    </tr>\n",
       "  </tbody>\n",
       "</table>\n",
       "</div>"
      ],
      "text/plain": [
       "   HomePlanet  CryoSleep  Destination   Age  VIP  RoomService  FoodCourt  \\\n",
       "0         1.0        0.0          2.0  39.0  0.0          0.0        0.0   \n",
       "1         0.0        0.0          2.0  24.0  0.0        109.0        9.0   \n",
       "2         1.0        0.0          2.0  58.0  1.0         43.0     3576.0   \n",
       "3         1.0        0.0          2.0  33.0  0.0          0.0     1283.0   \n",
       "4         0.0        0.0          2.0  16.0  0.0        303.0       70.0   \n",
       "\n",
       "   ShoppingMall     Spa  VRDeck  group  Age_norm  RoomService_norm  \\\n",
       "0           0.0     0.0     0.0      1  0.709373         -0.340420   \n",
       "1          25.0   549.0    44.0      2 -0.336374         -0.175210   \n",
       "2           0.0  6715.0    49.0      3  2.033985         -0.275245   \n",
       "3         371.0  3329.0   193.0      3  0.291074         -0.340420   \n",
       "4         151.0   565.0     2.0      4 -0.894105          0.118835   \n",
       "\n",
       "   FoodCourt_norm  ShoppingMall_norm  Spa_norm  VRDeck_norm  \n",
       "0       -0.286919          -0.290836 -0.276256    -0.268140  \n",
       "1       -0.281279          -0.248989  0.211620    -0.229322  \n",
       "2        1.954387          -0.290836  5.691115    -0.224911  \n",
       "3        0.517218           0.330181  2.682103    -0.097871  \n",
       "4       -0.243046          -0.038077  0.225839    -0.266375  "
      ]
     },
     "execution_count": 16,
     "metadata": {},
     "output_type": "execute_result"
    }
   ],
   "source": [
    "df_train.head()"
   ]
  },
  {
   "cell_type": "code",
   "execution_count": 17,
   "metadata": {},
   "outputs": [
    {
     "data": {
      "text/plain": [
       "CryoSleep            0.114813\n",
       "Spa                  0.078308\n",
       "Spa_norm             0.076634\n",
       "RoomService          0.073629\n",
       "RoomService_norm     0.073451\n",
       "VRDeck_norm          0.065378\n",
       "ShoppingMall         0.060428\n",
       "VRDeck               0.060247\n",
       "ShoppingMall_norm    0.056268\n",
       "FoodCourt_norm       0.049550\n",
       "FoodCourt            0.048493\n",
       "group                0.021366\n",
       "HomePlanet           0.015227\n",
       "Age_norm             0.012698\n",
       "Age                  0.012466\n",
       "Destination          0.007685\n",
       "VIP                  0.001796\n",
       "Name: MI Scores, dtype: float64"
      ]
     },
     "execution_count": 17,
     "metadata": {},
     "output_type": "execute_result"
    }
   ],
   "source": [
    "mi_scores = mutual_info_classif(df_train, training_labels)\n",
    "mi_scores = pd.Series(mi_scores, name=\"MI Scores\", index=df_train.columns)\n",
    "mi_scores = mi_scores.sort_values(ascending=False)\n",
    "mi_scores"
   ]
  },
  {
   "cell_type": "code",
   "execution_count": 18,
   "metadata": {},
   "outputs": [],
   "source": [
    "# Drop Destination and VIP\n",
    "df_train.drop(['Destination', 'VIP'], axis = 1, inplace = True)"
   ]
  },
  {
   "cell_type": "markdown",
   "metadata": {},
   "source": [
    "#### Save the data after preprocessing"
   ]
  },
  {
   "cell_type": "code",
   "execution_count": 19,
   "metadata": {},
   "outputs": [
    {
     "data": {
      "text/plain": [
       "8693"
      ]
     },
     "execution_count": 19,
     "metadata": {},
     "output_type": "execute_result"
    }
   ],
   "source": [
    "len(training_labels)"
   ]
  },
  {
   "cell_type": "code",
   "execution_count": 20,
   "metadata": {},
   "outputs": [
    {
     "data": {
      "text/html": [
       "<div>\n",
       "<style scoped>\n",
       "    .dataframe tbody tr th:only-of-type {\n",
       "        vertical-align: middle;\n",
       "    }\n",
       "\n",
       "    .dataframe tbody tr th {\n",
       "        vertical-align: top;\n",
       "    }\n",
       "\n",
       "    .dataframe thead th {\n",
       "        text-align: right;\n",
       "    }\n",
       "</style>\n",
       "<table border=\"1\" class=\"dataframe\">\n",
       "  <thead>\n",
       "    <tr style=\"text-align: right;\">\n",
       "      <th></th>\n",
       "      <th>HomePlanet</th>\n",
       "      <th>CryoSleep</th>\n",
       "      <th>Age</th>\n",
       "      <th>RoomService</th>\n",
       "      <th>FoodCourt</th>\n",
       "      <th>ShoppingMall</th>\n",
       "      <th>Spa</th>\n",
       "      <th>VRDeck</th>\n",
       "      <th>group</th>\n",
       "      <th>Age_norm</th>\n",
       "      <th>RoomService_norm</th>\n",
       "      <th>FoodCourt_norm</th>\n",
       "      <th>ShoppingMall_norm</th>\n",
       "      <th>Spa_norm</th>\n",
       "      <th>VRDeck_norm</th>\n",
       "      <th>Transported</th>\n",
       "    </tr>\n",
       "  </thead>\n",
       "  <tbody>\n",
       "    <tr>\n",
       "      <th>0</th>\n",
       "      <td>1.0</td>\n",
       "      <td>0.0</td>\n",
       "      <td>39.0</td>\n",
       "      <td>0.0</td>\n",
       "      <td>0.0</td>\n",
       "      <td>0.0</td>\n",
       "      <td>0.0</td>\n",
       "      <td>0.0</td>\n",
       "      <td>1</td>\n",
       "      <td>0.709373</td>\n",
       "      <td>-0.340420</td>\n",
       "      <td>-0.286919</td>\n",
       "      <td>-0.290836</td>\n",
       "      <td>-0.276256</td>\n",
       "      <td>-0.268140</td>\n",
       "      <td>False</td>\n",
       "    </tr>\n",
       "    <tr>\n",
       "      <th>1</th>\n",
       "      <td>0.0</td>\n",
       "      <td>0.0</td>\n",
       "      <td>24.0</td>\n",
       "      <td>109.0</td>\n",
       "      <td>9.0</td>\n",
       "      <td>25.0</td>\n",
       "      <td>549.0</td>\n",
       "      <td>44.0</td>\n",
       "      <td>2</td>\n",
       "      <td>-0.336374</td>\n",
       "      <td>-0.175210</td>\n",
       "      <td>-0.281279</td>\n",
       "      <td>-0.248989</td>\n",
       "      <td>0.211620</td>\n",
       "      <td>-0.229322</td>\n",
       "      <td>True</td>\n",
       "    </tr>\n",
       "    <tr>\n",
       "      <th>2</th>\n",
       "      <td>1.0</td>\n",
       "      <td>0.0</td>\n",
       "      <td>58.0</td>\n",
       "      <td>43.0</td>\n",
       "      <td>3576.0</td>\n",
       "      <td>0.0</td>\n",
       "      <td>6715.0</td>\n",
       "      <td>49.0</td>\n",
       "      <td>3</td>\n",
       "      <td>2.033985</td>\n",
       "      <td>-0.275245</td>\n",
       "      <td>1.954387</td>\n",
       "      <td>-0.290836</td>\n",
       "      <td>5.691115</td>\n",
       "      <td>-0.224911</td>\n",
       "      <td>False</td>\n",
       "    </tr>\n",
       "    <tr>\n",
       "      <th>3</th>\n",
       "      <td>1.0</td>\n",
       "      <td>0.0</td>\n",
       "      <td>33.0</td>\n",
       "      <td>0.0</td>\n",
       "      <td>1283.0</td>\n",
       "      <td>371.0</td>\n",
       "      <td>3329.0</td>\n",
       "      <td>193.0</td>\n",
       "      <td>3</td>\n",
       "      <td>0.291074</td>\n",
       "      <td>-0.340420</td>\n",
       "      <td>0.517218</td>\n",
       "      <td>0.330181</td>\n",
       "      <td>2.682103</td>\n",
       "      <td>-0.097871</td>\n",
       "      <td>False</td>\n",
       "    </tr>\n",
       "    <tr>\n",
       "      <th>4</th>\n",
       "      <td>0.0</td>\n",
       "      <td>0.0</td>\n",
       "      <td>16.0</td>\n",
       "      <td>303.0</td>\n",
       "      <td>70.0</td>\n",
       "      <td>151.0</td>\n",
       "      <td>565.0</td>\n",
       "      <td>2.0</td>\n",
       "      <td>4</td>\n",
       "      <td>-0.894105</td>\n",
       "      <td>0.118835</td>\n",
       "      <td>-0.243046</td>\n",
       "      <td>-0.038077</td>\n",
       "      <td>0.225839</td>\n",
       "      <td>-0.266375</td>\n",
       "      <td>True</td>\n",
       "    </tr>\n",
       "  </tbody>\n",
       "</table>\n",
       "</div>"
      ],
      "text/plain": [
       "   HomePlanet  CryoSleep   Age  RoomService  FoodCourt  ShoppingMall     Spa  \\\n",
       "0         1.0        0.0  39.0          0.0        0.0           0.0     0.0   \n",
       "1         0.0        0.0  24.0        109.0        9.0          25.0   549.0   \n",
       "2         1.0        0.0  58.0         43.0     3576.0           0.0  6715.0   \n",
       "3         1.0        0.0  33.0          0.0     1283.0         371.0  3329.0   \n",
       "4         0.0        0.0  16.0        303.0       70.0         151.0   565.0   \n",
       "\n",
       "   VRDeck  group  Age_norm  RoomService_norm  FoodCourt_norm  \\\n",
       "0     0.0      1  0.709373         -0.340420       -0.286919   \n",
       "1    44.0      2 -0.336374         -0.175210       -0.281279   \n",
       "2    49.0      3  2.033985         -0.275245        1.954387   \n",
       "3   193.0      3  0.291074         -0.340420        0.517218   \n",
       "4     2.0      4 -0.894105          0.118835       -0.243046   \n",
       "\n",
       "   ShoppingMall_norm  Spa_norm  VRDeck_norm  Transported  \n",
       "0          -0.290836 -0.276256    -0.268140        False  \n",
       "1          -0.248989  0.211620    -0.229322         True  \n",
       "2          -0.290836  5.691115    -0.224911        False  \n",
       "3           0.330181  2.682103    -0.097871        False  \n",
       "4          -0.038077  0.225839    -0.266375         True  "
      ]
     },
     "execution_count": 20,
     "metadata": {},
     "output_type": "execute_result"
    }
   ],
   "source": [
    "df_train = pd.concat([df_train, training_labels], axis=1)\n",
    "df_train.head()"
   ]
  },
  {
   "cell_type": "markdown",
   "metadata": {},
   "source": [
    "#### Save preprocessed data as checkpoint"
   ]
  },
  {
   "cell_type": "code",
   "execution_count": 21,
   "metadata": {},
   "outputs": [],
   "source": [
    "df_train.to_csv('../data/spaceship_titanic/preprocessed_train.csv', index=False)"
   ]
  },
  {
   "cell_type": "markdown",
   "metadata": {},
   "source": [
    "#### Split Data"
   ]
  },
  {
   "cell_type": "code",
   "execution_count": 22,
   "metadata": {},
   "outputs": [],
   "source": [
    "# X_train, X_val, y_train, y_val = train_test_split(df_train, training_labels, test_size=0.2)"
   ]
  },
  {
   "cell_type": "code",
   "execution_count": 67,
   "metadata": {},
   "outputs": [],
   "source": [
    "class SSTitanic(Dataset):\n",
    "    def __init__(self, csv_file_path: str):\n",
    "        \n",
    "        df = pd.read_csv(csv_file_path)\n",
    "        \n",
    "        # Note that the data has been preprocessed e.g. Normalized and encoding done\n",
    "        target_column = ['Transported']\n",
    "        \n",
    "        # Convert to tensor\n",
    "        self.X = df.drop(target_column, axis = 1).values\n",
    "        self.X = torch.tensor(self.X, dtype=torch.float32)\n",
    "        \n",
    "        # Convert to tensor\n",
    "        self.y = df[target_column].values\n",
    "        self.y = torch.tensor(self.y, dtype=torch.bool)\n",
    "        \n",
    "    def __len__(self):\n",
    "        return len(self.X)\n",
    "    \n",
    "    def __getitem__(self, idx):\n",
    "        return self.X[idx], self.y[idx]\n",
    "    "
   ]
  },
  {
   "cell_type": "code",
   "execution_count": 68,
   "metadata": {},
   "outputs": [],
   "source": [
    "sst = SSTitanic('../data/spaceship_titanic/preprocessed_train.csv')"
   ]
  },
  {
   "cell_type": "markdown",
   "metadata": {},
   "source": [
    "#### Model"
   ]
  },
  {
   "cell_type": "code",
   "execution_count": 103,
   "metadata": {},
   "outputs": [],
   "source": [
    "# Define the model\n",
    "\n",
    "class Net(nn.Module):\n",
    "    \n",
    "    def __init__(self, d_in, h = 15, d_out = 1):\n",
    "        super().__init__()\n",
    "        \n",
    "        self.fc1 = nn.Linear(d_in, h)\n",
    "        self.fc2 = nn.Linear(h, d_out)\n",
    "        self.relu = nn.ReLU()\n",
    "        \n",
    "    def forward(self, x):\n",
    "        x = self.fc1(x)\n",
    "        x = self.relu(x)\n",
    "        x = self.fc2(x)\n",
    "        \n",
    "        return x.squeeze()"
   ]
  },
  {
   "cell_type": "markdown",
   "metadata": {},
   "source": [
    "#### Training Loop"
   ]
  },
  {
   "cell_type": "code",
   "execution_count": 110,
   "metadata": {},
   "outputs": [],
   "source": [
    "def train(csv_file, n_epochs = 100):\n",
    "    \"\"\"Train the model\n",
    "\n",
    "    Args:\n",
    "        csv_file (_type_): _description_\n",
    "        epochs (int, optional): _description_. Defaults to 100.\n",
    "    \"\"\"\n",
    "    \n",
    "    # Load the dataset\n",
    "    dataset = SSTitanic(csv_file)\n",
    "    \n",
    "    # Split into train and val\n",
    "    train_size = int(0.8 * len(dataset))\n",
    "    val_size = len(dataset) - train_size\n",
    "    trainset, valset = random_split(dataset, [train_size, val_size])\n",
    "    print(trainset)\n",
    "    \n",
    "    # DataLoaders\n",
    "    trainloader = DataLoader(trainset, batch_size = 32, shuffle = True)\n",
    "    valloader = DataLoader(valset, batch_size = 32, shuffle = False)\n",
    "    \n",
    "    # Set device\n",
    "    device = torch.device(\"cuda:0\" if torch.cuda.is_available() else \"cpu\")\n",
    "    print(f\"Device is: {device}\")\n",
    "    \n",
    "    # Set the model settings\n",
    "    D_in, H = 15, 32\n",
    "    net = Net(D_in, H).to(device)\n",
    "    \n",
    "    # Loss function\n",
    "    criterion = nn.MSELoss()\n",
    "    \n",
    "    # Optimizer\n",
    "    optimizer = torch.optim.Adam(net.parameters(), weight_decay = 0.0001)\n",
    "    \n",
    "    # Train the network\n",
    "    loss_per_iter = list()\n",
    "    loss_per_batch = list()\n",
    "    \n",
    "    for epoch in range(n_epochs):\n",
    "        \n",
    "        # Define params each epoch\n",
    "        running_loss = 0.0\n",
    "        for i, data in enumerate(trainloader):\n",
    "            # print(f\"index: {i}\")\n",
    "            inputs, labels = data\n",
    "            inputs = inputs.to(device)\n",
    "            labels = labels.to(device)\n",
    "            \n",
    "            # Perform the usual actions of zero-ing gradients\n",
    "            optimizer.zero_grad()\n",
    "            \n",
    "            # Forward, backward, step\n",
    "            outputs = net(inputs.float())\n",
    "            loss = criterion(outputs, labels.float())\n",
    "            loss.backward() # Backward\n",
    "            optimizer.step() # Step\n",
    "            \n",
    "            # Save loss to plot\n",
    "            running_loss += loss.item()\n",
    "            loss_per_iter.append(loss.item())\n",
    "            \n",
    "            if i % 200 == 199: # Print every 200 mini-batches\n",
    "                print(f\"[{epoch + 1}, {i + 1:5d}] loss: {running_loss / 2000:3f}\")\n",
    "        \n",
    "        loss_per_batch.append(running_loss / (i+1))\n",
    "        running_loss = 0.0"
   ]
  },
  {
   "cell_type": "code",
   "execution_count": 111,
   "metadata": {},
   "outputs": [
    {
     "name": "stdout",
     "output_type": "stream",
     "text": [
      "<torch.utils.data.dataset.Subset object at 0x7fa16011c950>\n",
      "Device is: cpu\n"
     ]
    },
    {
     "name": "stderr",
     "output_type": "stream",
     "text": [
      "/usr/local/Caskroom/miniforge/base/envs/personal_projects/lib/python3.7/site-packages/torch/nn/modules/loss.py:431: UserWarning: Using a target size (torch.Size([32, 1])) that is different to the input size (torch.Size([32])). This will likely lead to incorrect results due to broadcasting. Please ensure they have the same size.\n",
      "  return F.mse_loss(input, target, reduction=self.reduction)\n"
     ]
    },
    {
     "name": "stdout",
     "output_type": "stream",
     "text": [
      "[1,   200] loss: 220.033101\n"
     ]
    },
    {
     "name": "stderr",
     "output_type": "stream",
     "text": [
      "/usr/local/Caskroom/miniforge/base/envs/personal_projects/lib/python3.7/site-packages/torch/nn/modules/loss.py:431: UserWarning: Using a target size (torch.Size([10, 1])) that is different to the input size (torch.Size([10])). This will likely lead to incorrect results due to broadcasting. Please ensure they have the same size.\n",
      "  return F.mse_loss(input, target, reduction=self.reduction)\n"
     ]
    },
    {
     "name": "stdout",
     "output_type": "stream",
     "text": [
      "[2,   200] loss: 27.459754\n",
      "[3,   200] loss: 13.359227\n",
      "[4,   200] loss: 7.360201\n",
      "[5,   200] loss: 6.159647\n",
      "[6,   200] loss: 3.869678\n",
      "[7,   200] loss: 2.696465\n",
      "[8,   200] loss: 3.611290\n",
      "[9,   200] loss: 2.873552\n",
      "[10,   200] loss: 4.040971\n",
      "[11,   200] loss: 2.321294\n",
      "[12,   200] loss: 2.144393\n",
      "[13,   200] loss: 2.335934\n",
      "[14,   200] loss: 2.524268\n",
      "[15,   200] loss: 2.836436\n",
      "[16,   200] loss: 2.149367\n",
      "[17,   200] loss: 1.678535\n",
      "[18,   200] loss: 2.484999\n",
      "[19,   200] loss: 3.902302\n",
      "[20,   200] loss: 2.884824\n",
      "[21,   200] loss: 2.247308\n",
      "[22,   200] loss: 2.668807\n",
      "[23,   200] loss: 1.294428\n",
      "[24,   200] loss: 1.343641\n",
      "[25,   200] loss: 1.401527\n",
      "[26,   200] loss: 1.655792\n",
      "[27,   200] loss: 5.840289\n",
      "[28,   200] loss: 1.119115\n",
      "[29,   200] loss: 3.523299\n",
      "[30,   200] loss: 1.078330\n",
      "[31,   200] loss: 1.280796\n",
      "[32,   200] loss: 0.610887\n",
      "[33,   200] loss: 0.871660\n",
      "[34,   200] loss: 2.359299\n",
      "[35,   200] loss: 2.580794\n",
      "[36,   200] loss: 2.094961\n",
      "[37,   200] loss: 2.978489\n",
      "[38,   200] loss: 0.641250\n",
      "[39,   200] loss: 1.130537\n",
      "[40,   200] loss: 1.116366\n",
      "[41,   200] loss: 3.664121\n",
      "[42,   200] loss: 0.608884\n",
      "[43,   200] loss: 2.214997\n",
      "[44,   200] loss: 1.252283\n",
      "[45,   200] loss: 0.303165\n",
      "[46,   200] loss: 0.234649\n",
      "[47,   200] loss: 0.318196\n",
      "[48,   200] loss: 1.066665\n",
      "[49,   200] loss: 0.829397\n",
      "[50,   200] loss: 0.606741\n",
      "[51,   200] loss: 0.290526\n",
      "[52,   200] loss: 0.563921\n",
      "[53,   200] loss: 0.603869\n",
      "[54,   200] loss: 2.213252\n",
      "[55,   200] loss: 0.185275\n",
      "[56,   200] loss: 0.265409\n",
      "[57,   200] loss: 0.189556\n",
      "[58,   200] loss: 0.441995\n",
      "[59,   200] loss: 3.560831\n",
      "[60,   200] loss: 0.372823\n",
      "[61,   200] loss: 0.118029\n",
      "[62,   200] loss: 0.078216\n",
      "[63,   200] loss: 0.112798\n",
      "[64,   200] loss: 0.085686\n",
      "[65,   200] loss: 0.164284\n",
      "[66,   200] loss: 0.306102\n",
      "[67,   200] loss: 0.117807\n",
      "[68,   200] loss: 0.234520\n",
      "[69,   200] loss: 1.804448\n",
      "[70,   200] loss: 0.106220\n",
      "[71,   200] loss: 0.186114\n",
      "[72,   200] loss: 0.184424\n",
      "[73,   200] loss: 0.172107\n",
      "[74,   200] loss: 2.454723\n",
      "[75,   200] loss: 0.114964\n",
      "[76,   200] loss: 0.054805\n",
      "[77,   200] loss: 0.039917\n",
      "[78,   200] loss: 0.050782\n",
      "[79,   200] loss: 0.069296\n",
      "[80,   200] loss: 0.182562\n",
      "[81,   200] loss: 0.277054\n",
      "[82,   200] loss: 0.819105\n",
      "[83,   200] loss: 0.158570\n",
      "[84,   200] loss: 0.131026\n",
      "[85,   200] loss: 0.076587\n",
      "[86,   200] loss: 0.100570\n",
      "[87,   200] loss: 0.141957\n",
      "[88,   200] loss: 0.921053\n",
      "[89,   200] loss: 0.096757\n",
      "[90,   200] loss: 0.042970\n",
      "[91,   200] loss: 0.161873\n",
      "[92,   200] loss: 0.086342\n",
      "[93,   200] loss: 0.044542\n",
      "[94,   200] loss: 0.292940\n",
      "[95,   200] loss: 0.048985\n",
      "[96,   200] loss: 0.338360\n",
      "[97,   200] loss: 0.108202\n",
      "[98,   200] loss: 0.873969\n",
      "[99,   200] loss: 0.344083\n",
      "[100,   200] loss: 0.137260\n"
     ]
    }
   ],
   "source": [
    "train('../data/spaceship_titanic/preprocessed_train.csv')"
   ]
  },
  {
   "cell_type": "code",
   "execution_count": null,
   "metadata": {},
   "outputs": [],
   "source": []
  }
 ],
 "metadata": {
  "kernelspec": {
   "display_name": "Python 3.7.12 ('personal_projects')",
   "language": "python",
   "name": "python3"
  },
  "language_info": {
   "codemirror_mode": {
    "name": "ipython",
    "version": 3
   },
   "file_extension": ".py",
   "mimetype": "text/x-python",
   "name": "python",
   "nbconvert_exporter": "python",
   "pygments_lexer": "ipython3",
   "version": "3.7.12"
  },
  "orig_nbformat": 4,
  "vscode": {
   "interpreter": {
    "hash": "34ea9849d6d48753674ba6cf88f8e517abe39317b38078576229854f69470f45"
   }
  }
 },
 "nbformat": 4,
 "nbformat_minor": 2
}
