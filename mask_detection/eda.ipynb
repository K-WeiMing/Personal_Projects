{
 "cells": [
  {
   "cell_type": "markdown",
   "metadata": {},
   "source": [
    "[Dataset reference](https://www.kaggle.com/datasets/andrewmvd/face-mask-detection)"
   ]
  },
  {
   "cell_type": "markdown",
   "metadata": {},
   "source": [
    "### Imports"
   ]
  },
  {
   "cell_type": "code",
   "execution_count": 43,
   "metadata": {},
   "outputs": [],
   "source": [
    "import pandas as pd\n",
    "import matplotlib.pyplot as plt\n",
    "import seaborn as sns\n",
    "import os\n",
    "import glob\n",
    "import xmltodict\n",
    "from collections import Counter"
   ]
  },
  {
   "cell_type": "markdown",
   "metadata": {},
   "source": [
    "### Inspect the files"
   ]
  },
  {
   "cell_type": "code",
   "execution_count": 30,
   "metadata": {},
   "outputs": [],
   "source": [
    "# The files have an annotation and images folder\n",
    "# Store the image and annotation names in two separate lists\n",
    "\n",
    "image_list = list()\n",
    "annot_list = list()\n",
    "\n",
    "for dir_name, _, file_name in os.walk('./data/'):\n",
    "    for file in file_name:\n",
    "        if file[-4:] == '.png':\n",
    "            image_list.append(file)\n",
    "            \n",
    "        elif file[-4:] == '.xml':\n",
    "            annot_list.append(file)\n"
   ]
  },
  {
   "cell_type": "markdown",
   "metadata": {},
   "source": [
    "### EDA"
   ]
  },
  {
   "cell_type": "markdown",
   "metadata": {},
   "source": [
    "#### Distribution of the classes"
   ]
  },
  {
   "cell_type": "code",
   "execution_count": 64,
   "metadata": {},
   "outputs": [
    {
     "name": "stdout",
     "output_type": "stream",
     "text": [
      "{'with_mask': 3232, 'mask_weared_incorrect': 123, 'without_mask': 717}\n"
     ]
    }
   ],
   "source": [
    "# Get a distribution of the dataset\n",
    "\n",
    "classes = list()\n",
    "\n",
    "annotation_dir = './data/annotations/'\n",
    "for image in image_list:\n",
    "    with open(annotation_dir + image[:-4] + '.xml') as xml_doc:\n",
    "        doc = xmltodict.parse(xml_doc.read())\n",
    "    \n",
    "    tmp = doc['annotation']['object']\n",
    "\n",
    "    if type(tmp) == list:\n",
    "        \n",
    "        for i in range(len(tmp)):\n",
    "            classes.append(tmp[i]['name'])\n",
    "    else:\n",
    "        classes.append(tmp['name'])\n",
    "        \n",
    "class_dict = dict(Counter(classes))\n",
    "print(class_dict)"
   ]
  },
  {
   "cell_type": "code",
   "execution_count": 65,
   "metadata": {},
   "outputs": [
    {
     "data": {
      "image/png": "[encoded data removed]",
      "text/plain": [
       "<Figure size 720x360 with 1 Axes>"
      ]
     },
     "metadata": {
      "needs_background": "light"
     },
     "output_type": "display_data"
    }
   ],
   "source": [
    "class_labels = Counter(classes).keys()\n",
    "class_values = Counter(classes).values()\n",
    "\n",
    "plt.figure(figsize=(10, 5))\n",
    "plt.title('Bar plot of data distribution')\n",
    "sns.barplot(x=list(class_labels), y=list(class_values))\n",
    "plt.show()"
   ]
  },
  {
   "cell_type": "code",
   "execution_count": null,
   "metadata": {},
   "outputs": [],
   "source": []
  }
 ],
 "metadata": {
  "kernelspec": {
   "display_name": "Python 3.9.13 ('personal_project_arm')",
   "language": "python",
   "name": "python3"
  },
  "language_info": {
   "codemirror_mode": {
    "name": "ipython",
    "version": 3
   },
   "file_extension": ".py",
   "mimetype": "text/x-python",
   "name": "python",
   "nbconvert_exporter": "python",
   "pygments_lexer": "ipython3",
   "version": "3.9.13"
  },
  "orig_nbformat": 4,
  "vscode": {
   "interpreter": {
    "hash": "571fa7eef80c5c553d4168e6706a4d5128801cb4f1cee1ad1ae7446bce0e2386"
   }
  }
 },
 "nbformat": 4,
 "nbformat_minor": 2
}
